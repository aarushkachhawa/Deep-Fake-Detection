{
  "cells": [
    {
      "cell_type": "markdown",
      "metadata": {
        "id": "view-in-github",
        "colab_type": "text"
      },
      "source": [
        "<a href=\"https://colab.research.google.com/github/aarushkachhawa/Deep-Fake-Detection/blob/main/DeepFakeDetection%5BGit%5DGreyscaleDCT.ipynb\" target=\"_parent\"><img src=\"https://colab.research.google.com/assets/colab-badge.svg\" alt=\"Open In Colab\"/></a>"
      ]
    },
    {
      "cell_type": "code",
      "source": [
        "from google.colab import drive\n",
        "drive.mount('/content/gdrive')\n",
        "!unzip gdrive/My\\ Drive/data/archive.zip > /dev/null\n"
      ],
      "metadata": {
        "colab": {
          "base_uri": "https://localhost:8080/"
        },
        "id": "pdtnwzBhiy36",
        "outputId": "9ad49b9a-6094-4408-ee3d-176566aaf9bc"
      },
      "execution_count": null,
      "outputs": [
        {
          "output_type": "stream",
          "name": "stdout",
          "text": [
            "Drive already mounted at /content/gdrive; to attempt to forcibly remount, call drive.mount(\"/content/gdrive\", force_remount=True).\n"
          ]
        }
      ]
    },
    {
      "cell_type": "code",
      "source": [
        "%cd real_vs_fake/real-vs-fake/\n",
        "\n"
      ],
      "metadata": {
        "colab": {
          "base_uri": "https://localhost:8080/"
        },
        "id": "7tzneM4JkuhW",
        "outputId": "ec5b68b5-9c68-4ed0-bf72-7528cb63a3fa"
      },
      "execution_count": null,
      "outputs": [
        {
          "output_type": "stream",
          "name": "stdout",
          "text": [
            "/content/real_vs_fake/real-vs-fake\n"
          ]
        }
      ]
    },
    {
      "cell_type": "code",
      "source": [
        "\n",
        "!ls"
      ],
      "metadata": {
        "colab": {
          "base_uri": "https://localhost:8080/"
        },
        "id": "KC7HwoHukzzJ",
        "outputId": "9db2a19d-433d-4c28-ff89-7ff834430d95"
      },
      "execution_count": null,
      "outputs": [
        {
          "output_type": "stream",
          "name": "stdout",
          "text": [
            "test  train  valid\n"
          ]
        }
      ]
    },
    {
      "cell_type": "code",
      "execution_count": null,
      "metadata": {
        "id": "E7brnzz-MJST",
        "colab": {
          "base_uri": "https://localhost:8080/"
        },
        "outputId": "66aacc6b-6597-4ef9-c896-4751e8740378"
      },
      "outputs": [
        {
          "output_type": "execute_result",
          "data": {
            "text/plain": [
              "<torch._C.Generator at 0x7fe07d92abb0>"
            ]
          },
          "metadata": {},
          "execution_count": 4
        }
      ],
      "source": [
        "from skimage.io import imread\n",
        "from skimage.color import convert_colorspace\n",
        "from skimage import exposure\n",
        "from skimage import feature\n",
        "from skimage.color import rgb2gray\n",
        "from skimage.transform import resize\n",
        "import pandas as pd\n",
        "import tensorflow as tf\n",
        "import torch\n",
        "from numba import cuda \n",
        "import time\n",
        "\n",
        "from tensorflow import keras\n",
        "\n",
        "device = 'cuda' if torch.cuda.is_available() else 'cpu'\n",
        "import cv2\n",
        "import os\n",
        "import tqdm\n",
        "\n",
        "import matplotlib.pyplot as plt\n",
        "import numpy as np\n",
        "from sklearn.model_selection import train_test_split\n",
        "\n",
        "from tensorflow import keras\n",
        "from keras import Sequential\n",
        "from keras.layers import Dense, Flatten, Conv2D, MaxPooling2D, Dropout\n",
        "from tensorflow.keras.utils import plot_model\n",
        "from keras import callbacks\n",
        "import keras\n",
        "from keras import losses\n",
        "import gc\n",
        "\n",
        "torch.manual_seed(111)"
      ]
    },
    {
      "cell_type": "code",
      "source": [
        "from PIL import Image"
      ],
      "metadata": {
        "id": "8AKAvYn3NCvo"
      },
      "execution_count": null,
      "outputs": []
    },
    {
      "cell_type": "code",
      "source": [
        "  "
      ],
      "metadata": {
        "id": "MopifK6vKsEx"
      },
      "execution_count": null,
      "outputs": []
    },
    {
      "cell_type": "code",
      "source": [
        "def sigmoid(x):\n",
        "  return np.exp(-np.logaddexp(0,-x))\n",
        "from scipy import fftpack\n",
        "\n",
        "def preProcess(img):\n",
        "  gray_img = cv2.cvtColor(img,cv2.COLOR_BGR2GRAY)\n",
        "  nd_img = np.array(gray_img,dtype = np.float64)\n",
        "  processed_img = sigmoid(fftpack.dct(fftpack.dct(nd_img.T, norm = 'ortho').T, norm = 'ortho'))\n",
        "  processed_img = np.expand_dims(processed_img, axis = 2)\n",
        "  return processed_img"
      ],
      "metadata": {
        "id": "JONl5Q8N5DM6"
      },
      "execution_count": null,
      "outputs": []
    },
    {
      "cell_type": "code",
      "source": [
        "def loadImages(dataPath, category, imagenum):\n",
        "  flat_data_arr=[] #input array\n",
        "  target_arr=[] #output array\n",
        "  for i in range(len(dataPath)):\n",
        "    count = 0\n",
        "    for image in os.listdir(dataPath[i])[:imagenum]:\n",
        "      if (not image.endswith('.jpg')):\n",
        "        continue\n",
        "      count = count + 1\n",
        "      if count % 1000 == 0:\n",
        "        print(count)\n",
        "      image_array = cv2.imread(os.path.join(dataPath[i], image))\n",
        "      if image_array is None:\n",
        "        print(image)\n",
        "      #print(image_array.shape)\n",
        "      #image_resized = resize(image_array, (150,150,1))\n",
        "      image_preprocess = preProcess(image_array)\n",
        "      #print(image_preprocess.shape)\n",
        "      flat_data_arr.append(image_preprocess)\n",
        "      target_arr.append(category[i])\n",
        "  x = np.array(flat_data_arr)\n",
        "  y = np.array(target_arr)\n",
        "  return x, y\n"
      ],
      "metadata": {
        "id": "LQJ2uldVOYvO"
      },
      "execution_count": null,
      "outputs": []
    },
    {
      "cell_type": "code",
      "execution_count": null,
      "metadata": {
        "id": "dJt0_FURPCCO",
        "colab": {
          "base_uri": "https://localhost:8080/",
          "height": 198
        },
        "outputId": "a84fc20f-480f-49db-a8df-57755c1ab055"
      },
      "outputs": [
        {
          "output_type": "error",
          "ename": "NameError",
          "evalue": "ignored",
          "traceback": [
            "\u001b[0;31m---------------------------------------------------------------------------\u001b[0m",
            "\u001b[0;31mNameError\u001b[0m                                 Traceback (most recent call last)",
            "\u001b[0;32m<ipython-input-1-c545da33c1dd>\u001b[0m in \u001b[0;36m<module>\u001b[0;34m()\u001b[0m\n\u001b[1;32m      5\u001b[0m \u001b[0mdatadirs\u001b[0m \u001b[0;34m=\u001b[0m \u001b[0;34m[\u001b[0m\u001b[0;34m'train/real/'\u001b[0m\u001b[0;34m,\u001b[0m \u001b[0;34m'train/fake'\u001b[0m\u001b[0;34m]\u001b[0m\u001b[0;34m\u001b[0m\u001b[0;34m\u001b[0m\u001b[0m\n\u001b[1;32m      6\u001b[0m \u001b[0;34m\u001b[0m\u001b[0m\n\u001b[0;32m----> 7\u001b[0;31m \u001b[0mx\u001b[0m\u001b[0;34m,\u001b[0m\u001b[0my\u001b[0m \u001b[0;34m=\u001b[0m \u001b[0mloadImages\u001b[0m\u001b[0;34m(\u001b[0m\u001b[0mdatadirs\u001b[0m\u001b[0;34m,\u001b[0m \u001b[0mcategories\u001b[0m\u001b[0;34m,\u001b[0m \u001b[0;36m9000\u001b[0m\u001b[0;34m)\u001b[0m\u001b[0;34m\u001b[0m\u001b[0;34m\u001b[0m\u001b[0m\n\u001b[0m",
            "\u001b[0;31mNameError\u001b[0m: name 'loadImages' is not defined"
          ]
        }
      ],
      "source": [
        "categories=[1,0]\n",
        "\n",
        "#path which contains all the categories of images\n",
        "\n",
        "datadirs = ['train/real/', 'train/fake'] \n",
        "\n",
        "x,y = loadImages(datadirs, categories, 9000)"
      ]
    },
    {
      "cell_type": "code",
      "execution_count": null,
      "metadata": {
        "id": "kMP3QLEMPVv8",
        "colab": {
          "base_uri": "https://localhost:8080/"
        },
        "outputId": "cb68725a-a97d-40a8-b6cf-bec66a3c1919"
      },
      "outputs": [
        {
          "output_type": "execute_result",
          "data": {
            "text/plain": [
              "(4000, 256, 256, 1)"
            ]
          },
          "metadata": {},
          "execution_count": 14
        }
      ],
      "source": [
        "x.shape"
      ]
    },
    {
      "cell_type": "code",
      "execution_count": null,
      "metadata": {
        "id": "v0FDFf2oOy0k",
        "colab": {
          "base_uri": "https://localhost:8080/"
        },
        "outputId": "7d468804-40b0-46f9-f692-49ccbaabb91f"
      },
      "outputs": [
        {
          "output_type": "execute_result",
          "data": {
            "text/plain": [
              "array([[[[1.00000000e+000],\n",
              "         [0.00000000e+000],\n",
              "         [1.00000000e+000],\n",
              "         ...,\n",
              "         [9.60094977e-001],\n",
              "         [9.99990195e-001],\n",
              "         [1.18184322e-006]],\n",
              "\n",
              "        [[1.00000000e+000],\n",
              "         [1.00000000e+000],\n",
              "         [0.00000000e+000],\n",
              "         ...,\n",
              "         [9.99146834e-001],\n",
              "         [1.10961542e-001],\n",
              "         [5.14374030e-001]],\n",
              "\n",
              "        [[0.00000000e+000],\n",
              "         [1.00000000e+000],\n",
              "         [1.00000000e+000],\n",
              "         ...,\n",
              "         [9.70976525e-001],\n",
              "         [6.76155100e-006],\n",
              "         [9.99831316e-001]],\n",
              "\n",
              "        ...,\n",
              "\n",
              "        [[9.12830958e-002],\n",
              "         [4.62039579e-003],\n",
              "         [8.63959605e-001],\n",
              "         ...,\n",
              "         [8.95616581e-001],\n",
              "         [9.71226930e-001],\n",
              "         [4.65059073e-001]],\n",
              "\n",
              "        [[9.99790582e-001],\n",
              "         [9.97059421e-001],\n",
              "         [9.98128855e-001],\n",
              "         ...,\n",
              "         [3.11116312e-001],\n",
              "         [8.82575587e-001],\n",
              "         [8.10201630e-001]],\n",
              "\n",
              "        [[3.23324485e-002],\n",
              "         [6.80521447e-005],\n",
              "         [8.91020252e-001],\n",
              "         ...,\n",
              "         [3.79156023e-002],\n",
              "         [5.66470261e-002],\n",
              "         [4.38523770e-001]]],\n",
              "\n",
              "\n",
              "       [[[1.00000000e+000],\n",
              "         [1.00000000e+000],\n",
              "         [0.00000000e+000],\n",
              "         ...,\n",
              "         [1.34143173e-003],\n",
              "         [3.39732482e-001],\n",
              "         [9.99985773e-001]],\n",
              "\n",
              "        [[0.00000000e+000],\n",
              "         [1.00000000e+000],\n",
              "         [1.00000000e+000],\n",
              "         ...,\n",
              "         [9.90735345e-007],\n",
              "         [9.94610298e-001],\n",
              "         [9.99615449e-001]],\n",
              "\n",
              "        [[7.09023143e-132],\n",
              "         [0.00000000e+000],\n",
              "         [1.00000000e+000],\n",
              "         ...,\n",
              "         [9.99953862e-001],\n",
              "         [9.99956465e-001],\n",
              "         [9.99999998e-001]],\n",
              "\n",
              "        ...,\n",
              "\n",
              "        [[9.99999937e-001],\n",
              "         [6.16704691e-001],\n",
              "         [9.45658891e-004],\n",
              "         ...,\n",
              "         [9.98777465e-001],\n",
              "         [4.71125851e-001],\n",
              "         [7.36495248e-001]],\n",
              "\n",
              "        [[1.59196895e-001],\n",
              "         [3.45749397e-003],\n",
              "         [2.46530490e-003],\n",
              "         ...,\n",
              "         [4.17876664e-001],\n",
              "         [9.51532937e-001],\n",
              "         [2.40591487e-002]],\n",
              "\n",
              "        [[3.08767685e-001],\n",
              "         [9.99997748e-001],\n",
              "         [9.99950170e-001],\n",
              "         ...,\n",
              "         [2.44278426e-002],\n",
              "         [9.99528351e-001],\n",
              "         [2.51748835e-001]]],\n",
              "\n",
              "\n",
              "       [[[1.00000000e+000],\n",
              "         [1.00000000e+000],\n",
              "         [0.00000000e+000],\n",
              "         ...,\n",
              "         [2.06680442e-002],\n",
              "         [7.39111300e-002],\n",
              "         [1.23691962e-004]],\n",
              "\n",
              "        [[0.00000000e+000],\n",
              "         [1.87695234e-008],\n",
              "         [0.00000000e+000],\n",
              "         ...,\n",
              "         [7.59538810e-001],\n",
              "         [6.87279031e-005],\n",
              "         [2.23483552e-001]],\n",
              "\n",
              "        [[1.00000000e+000],\n",
              "         [0.00000000e+000],\n",
              "         [1.00000000e+000],\n",
              "         ...,\n",
              "         [7.79374144e-003],\n",
              "         [3.08297835e-001],\n",
              "         [4.37479315e-002]],\n",
              "\n",
              "        ...,\n",
              "\n",
              "        [[9.37385132e-001],\n",
              "         [4.50409078e-001],\n",
              "         [3.64924457e-003],\n",
              "         ...,\n",
              "         [9.27878819e-001],\n",
              "         [5.52741914e-003],\n",
              "         [8.21345160e-001]],\n",
              "\n",
              "        [[4.01148892e-002],\n",
              "         [7.24901721e-001],\n",
              "         [8.71087460e-001],\n",
              "         ...,\n",
              "         [9.54276671e-001],\n",
              "         [2.57510314e-001],\n",
              "         [2.83357349e-001]],\n",
              "\n",
              "        [[2.08538116e-003],\n",
              "         [8.25270935e-001],\n",
              "         [9.67676170e-001],\n",
              "         ...,\n",
              "         [1.32935254e-002],\n",
              "         [9.86056939e-001],\n",
              "         [9.99997772e-001]]],\n",
              "\n",
              "\n",
              "       ...,\n",
              "\n",
              "\n",
              "       [[[1.00000000e+000],\n",
              "         [1.00000000e+000],\n",
              "         [0.00000000e+000],\n",
              "         ...,\n",
              "         [7.18322380e-002],\n",
              "         [3.85583370e-001],\n",
              "         [4.74293703e-003]],\n",
              "\n",
              "        [[0.00000000e+000],\n",
              "         [0.00000000e+000],\n",
              "         [1.00000000e+000],\n",
              "         ...,\n",
              "         [9.99999908e-001],\n",
              "         [5.74811279e-005],\n",
              "         [1.06842733e-002]],\n",
              "\n",
              "        [[0.00000000e+000],\n",
              "         [1.00000000e+000],\n",
              "         [1.00000000e+000],\n",
              "         ...,\n",
              "         [5.01647737e-005],\n",
              "         [3.66766698e-001],\n",
              "         [5.70514726e-007]],\n",
              "\n",
              "        ...,\n",
              "\n",
              "        [[9.97497142e-001],\n",
              "         [9.99796776e-001],\n",
              "         [9.96823560e-001],\n",
              "         ...,\n",
              "         [9.98929057e-001],\n",
              "         [9.45450046e-001],\n",
              "         [9.99945926e-001]],\n",
              "\n",
              "        [[3.82261626e-006],\n",
              "         [2.00575303e-002],\n",
              "         [9.99998910e-001],\n",
              "         ...,\n",
              "         [3.69927813e-004],\n",
              "         [6.22864794e-007],\n",
              "         [9.92647017e-001]],\n",
              "\n",
              "        [[2.02366680e-004],\n",
              "         [5.75472013e-002],\n",
              "         [9.94677660e-001],\n",
              "         ...,\n",
              "         [5.02135494e-001],\n",
              "         [9.58079208e-001],\n",
              "         [9.99997832e-001]]],\n",
              "\n",
              "\n",
              "       [[[1.00000000e+000],\n",
              "         [1.00000000e+000],\n",
              "         [0.00000000e+000],\n",
              "         ...,\n",
              "         [7.81831328e-006],\n",
              "         [1.60879557e-001],\n",
              "         [9.99999955e-001]],\n",
              "\n",
              "        [[0.00000000e+000],\n",
              "         [0.00000000e+000],\n",
              "         [1.00000000e+000],\n",
              "         ...,\n",
              "         [2.12155254e-005],\n",
              "         [8.87591718e-004],\n",
              "         [3.17613778e-001]],\n",
              "\n",
              "        [[0.00000000e+000],\n",
              "         [1.29124269e-249],\n",
              "         [1.00000000e+000],\n",
              "         ...,\n",
              "         [3.45072784e-004],\n",
              "         [2.33693221e-002],\n",
              "         [1.10668603e-002]],\n",
              "\n",
              "        ...,\n",
              "\n",
              "        [[1.39058007e-002],\n",
              "         [5.14738228e-002],\n",
              "         [9.49192015e-001],\n",
              "         ...,\n",
              "         [8.52116593e-001],\n",
              "         [1.24320754e-002],\n",
              "         [1.18214898e-003]],\n",
              "\n",
              "        [[1.44216524e-001],\n",
              "         [1.83653320e-001],\n",
              "         [3.47859507e-004],\n",
              "         ...,\n",
              "         [9.99251323e-001],\n",
              "         [9.99905035e-001],\n",
              "         [9.67935541e-001]],\n",
              "\n",
              "        [[3.19126856e-004],\n",
              "         [2.46989862e-001],\n",
              "         [9.99914997e-001],\n",
              "         ...,\n",
              "         [9.99842531e-001],\n",
              "         [3.53162723e-002],\n",
              "         [2.35982615e-002]]],\n",
              "\n",
              "\n",
              "       [[[1.00000000e+000],\n",
              "         [0.00000000e+000],\n",
              "         [0.00000000e+000],\n",
              "         ...,\n",
              "         [9.99846442e-001],\n",
              "         [6.83855122e-003],\n",
              "         [9.24771086e-001]],\n",
              "\n",
              "        [[1.00000000e+000],\n",
              "         [0.00000000e+000],\n",
              "         [1.92944247e-068],\n",
              "         ...,\n",
              "         [9.99988515e-001],\n",
              "         [5.28392297e-003],\n",
              "         [9.69710418e-001]],\n",
              "\n",
              "        [[0.00000000e+000],\n",
              "         [1.00000000e+000],\n",
              "         [1.00000000e+000],\n",
              "         ...,\n",
              "         [8.56379698e-001],\n",
              "         [9.99859116e-001],\n",
              "         [1.76970939e-001]],\n",
              "\n",
              "        ...,\n",
              "\n",
              "        [[4.86645679e-002],\n",
              "         [9.99997557e-001],\n",
              "         [9.98983322e-001],\n",
              "         ...,\n",
              "         [7.94170235e-004],\n",
              "         [3.07214960e-001],\n",
              "         [9.06798545e-001]],\n",
              "\n",
              "        [[9.83277210e-001],\n",
              "         [6.73010610e-001],\n",
              "         [2.58142120e-005],\n",
              "         ...,\n",
              "         [4.85826133e-002],\n",
              "         [3.00646808e-001],\n",
              "         [9.28278556e-001]],\n",
              "\n",
              "        [[9.98087456e-001],\n",
              "         [3.81358252e-006],\n",
              "         [2.74052944e-006],\n",
              "         ...,\n",
              "         [1.00193855e-001],\n",
              "         [1.20561300e-001],\n",
              "         [9.97494599e-001]]]])"
            ]
          },
          "metadata": {},
          "execution_count": 15
        }
      ],
      "source": [
        "x = np.resize(x, (x.shape[0], 256, 256, 1))\n",
        "x"
      ]
    },
    {
      "cell_type": "code",
      "execution_count": null,
      "metadata": {
        "id": "WMigSHd2PbTJ",
        "colab": {
          "base_uri": "https://localhost:8080/"
        },
        "outputId": "c57be433-fbd0-4f0d-9f76-ed7db542b91f"
      },
      "outputs": [
        {
          "output_type": "stream",
          "name": "stdout",
          "text": [
            "Splitted Successfully\n"
          ]
        }
      ],
      "source": [
        "x_train,x_test,y_train,y_test=train_test_split(x,y,test_size=0.20,random_state=77,stratify=y)\n",
        "print('Splitted Successfully')\n",
        "#x_train"
      ]
    },
    {
      "cell_type": "code",
      "source": [
        "x_train"
      ],
      "metadata": {
        "id": "ZSjgSc7P3AIg",
        "colab": {
          "base_uri": "https://localhost:8080/"
        },
        "outputId": "4fb6813e-b2e8-47ee-bd8c-e0faad688178"
      },
      "execution_count": null,
      "outputs": [
        {
          "output_type": "execute_result",
          "data": {
            "text/plain": [
              "array([[[[1.00000000e+000],\n",
              "         [1.00000000e+000],\n",
              "         [0.00000000e+000],\n",
              "         ...,\n",
              "         [1.90767402e-003],\n",
              "         [9.99952351e-001],\n",
              "         [9.82211618e-001]],\n",
              "\n",
              "        [[1.00000000e+000],\n",
              "         [1.00000000e+000],\n",
              "         [1.00000000e+000],\n",
              "         ...,\n",
              "         [2.84881152e-004],\n",
              "         [9.89541463e-001],\n",
              "         [9.96149915e-001]],\n",
              "\n",
              "        [[1.00000000e+000],\n",
              "         [9.06254290e-162],\n",
              "         [1.00000000e+000],\n",
              "         ...,\n",
              "         [7.56333519e-001],\n",
              "         [2.33590376e-001],\n",
              "         [9.55508429e-001]],\n",
              "\n",
              "        ...,\n",
              "\n",
              "        [[9.86075883e-001],\n",
              "         [3.18790480e-001],\n",
              "         [9.92309426e-001],\n",
              "         ...,\n",
              "         [9.28242284e-001],\n",
              "         [9.93636563e-001],\n",
              "         [5.30209482e-002]],\n",
              "\n",
              "        [[4.74879642e-002],\n",
              "         [9.87612847e-001],\n",
              "         [9.96298667e-001],\n",
              "         ...,\n",
              "         [6.33316471e-001],\n",
              "         [9.33755701e-002],\n",
              "         [9.96261438e-001]],\n",
              "\n",
              "        [[8.84636767e-001],\n",
              "         [9.97016783e-001],\n",
              "         [2.87003093e-001],\n",
              "         ...,\n",
              "         [6.25140637e-001],\n",
              "         [1.09888274e-001],\n",
              "         [7.02528623e-001]]],\n",
              "\n",
              "\n",
              "       [[[1.00000000e+000],\n",
              "         [1.48252037e-098],\n",
              "         [0.00000000e+000],\n",
              "         ...,\n",
              "         [8.35419760e-001],\n",
              "         [2.28736989e-003],\n",
              "         [9.82973286e-001]],\n",
              "\n",
              "        [[1.00000000e+000],\n",
              "         [0.00000000e+000],\n",
              "         [0.00000000e+000],\n",
              "         ...,\n",
              "         [2.63853357e-001],\n",
              "         [9.99476189e-001],\n",
              "         [9.93734383e-001]],\n",
              "\n",
              "        [[0.00000000e+000],\n",
              "         [9.55051420e-098],\n",
              "         [7.76655694e-169],\n",
              "         ...,\n",
              "         [1.76312702e-004],\n",
              "         [6.30298952e-007],\n",
              "         [1.63878409e-005]],\n",
              "\n",
              "        ...,\n",
              "\n",
              "        [[2.91254805e-001],\n",
              "         [9.99996936e-001],\n",
              "         [4.94111061e-002],\n",
              "         ...,\n",
              "         [3.40461461e-001],\n",
              "         [9.92917633e-001],\n",
              "         [5.68788441e-001]],\n",
              "\n",
              "        [[2.81883580e-001],\n",
              "         [9.81687669e-001],\n",
              "         [5.16043628e-001],\n",
              "         ...,\n",
              "         [2.69710028e-001],\n",
              "         [9.91158368e-001],\n",
              "         [1.89633767e-001]],\n",
              "\n",
              "        [[9.96875238e-001],\n",
              "         [4.90868944e-001],\n",
              "         [4.26684456e-003],\n",
              "         ...,\n",
              "         [2.48934114e-002],\n",
              "         [9.80909307e-001],\n",
              "         [9.98912197e-001]]],\n",
              "\n",
              "\n",
              "       [[[1.00000000e+000],\n",
              "         [1.00000000e+000],\n",
              "         [0.00000000e+000],\n",
              "         ...,\n",
              "         [8.64563378e-001],\n",
              "         [3.02033176e-002],\n",
              "         [1.16782769e-002]],\n",
              "\n",
              "        [[0.00000000e+000],\n",
              "         [0.00000000e+000],\n",
              "         [1.25139024e-104],\n",
              "         ...,\n",
              "         [9.82669281e-001],\n",
              "         [6.63862413e-001],\n",
              "         [2.54481046e-001]],\n",
              "\n",
              "        [[0.00000000e+000],\n",
              "         [5.53766857e-241],\n",
              "         [1.00000000e+000],\n",
              "         ...,\n",
              "         [5.84704341e-001],\n",
              "         [8.69693203e-001],\n",
              "         [8.99969737e-001]],\n",
              "\n",
              "        ...,\n",
              "\n",
              "        [[3.39277336e-001],\n",
              "         [7.86179868e-002],\n",
              "         [9.13912152e-001],\n",
              "         ...,\n",
              "         [8.05780491e-002],\n",
              "         [1.42480407e-001],\n",
              "         [3.28710701e-001]],\n",
              "\n",
              "        [[6.62319174e-002],\n",
              "         [9.96571730e-001],\n",
              "         [9.97773628e-001],\n",
              "         ...,\n",
              "         [4.65965536e-001],\n",
              "         [7.95640620e-001],\n",
              "         [8.63930125e-001]],\n",
              "\n",
              "        [[1.02080947e-003],\n",
              "         [9.83855401e-001],\n",
              "         [9.99433639e-001],\n",
              "         ...,\n",
              "         [4.77698909e-001],\n",
              "         [7.53505531e-002],\n",
              "         [5.87355681e-001]]],\n",
              "\n",
              "\n",
              "       ...,\n",
              "\n",
              "\n",
              "       [[[1.00000000e+000],\n",
              "         [1.00000000e+000],\n",
              "         [1.00000000e+000],\n",
              "         ...,\n",
              "         [1.32127135e-002],\n",
              "         [9.99999999e-001],\n",
              "         [1.00000000e+000]],\n",
              "\n",
              "        [[1.00000000e+000],\n",
              "         [0.00000000e+000],\n",
              "         [1.00000000e+000],\n",
              "         ...,\n",
              "         [9.02095527e-004],\n",
              "         [9.99999999e-001],\n",
              "         [9.99999858e-001]],\n",
              "\n",
              "        [[1.00000000e+000],\n",
              "         [0.00000000e+000],\n",
              "         [1.00000000e+000],\n",
              "         ...,\n",
              "         [7.23499235e-010],\n",
              "         [5.45697579e-011],\n",
              "         [2.90906164e-011]],\n",
              "\n",
              "        ...,\n",
              "\n",
              "        [[9.87564893e-001],\n",
              "         [9.98568825e-001],\n",
              "         [7.78925746e-004],\n",
              "         ...,\n",
              "         [1.57858314e-001],\n",
              "         [9.93327867e-001],\n",
              "         [9.99891533e-001]],\n",
              "\n",
              "        [[9.90879059e-001],\n",
              "         [9.99920256e-001],\n",
              "         [3.04632717e-002],\n",
              "         ...,\n",
              "         [1.92538167e-001],\n",
              "         [9.99999983e-001],\n",
              "         [9.99560662e-001]],\n",
              "\n",
              "        [[9.99999980e-001],\n",
              "         [9.98763980e-001],\n",
              "         [4.80150543e-003],\n",
              "         ...,\n",
              "         [2.71433322e-002],\n",
              "         [9.99993478e-001],\n",
              "         [9.57688519e-001]]],\n",
              "\n",
              "\n",
              "       [[[1.00000000e+000],\n",
              "         [0.00000000e+000],\n",
              "         [1.00000000e+000],\n",
              "         ...,\n",
              "         [2.80839212e-002],\n",
              "         [6.39750607e-001],\n",
              "         [8.22057468e-004]],\n",
              "\n",
              "        [[0.00000000e+000],\n",
              "         [0.00000000e+000],\n",
              "         [1.00000000e+000],\n",
              "         ...,\n",
              "         [1.85372734e-001],\n",
              "         [2.59360599e-001],\n",
              "         [1.24601251e-002]],\n",
              "\n",
              "        [[1.00000000e+000],\n",
              "         [1.72853591e-028],\n",
              "         [1.00000000e+000],\n",
              "         ...,\n",
              "         [9.63104552e-001],\n",
              "         [2.88092380e-001],\n",
              "         [6.48771979e-001]],\n",
              "\n",
              "        ...,\n",
              "\n",
              "        [[9.99645189e-001],\n",
              "         [9.11727595e-001],\n",
              "         [9.07802905e-004],\n",
              "         ...,\n",
              "         [9.99909666e-001],\n",
              "         [9.99969084e-001],\n",
              "         [2.48726348e-001]],\n",
              "\n",
              "        [[5.31517832e-001],\n",
              "         [3.01238072e-002],\n",
              "         [7.05871184e-001],\n",
              "         ...,\n",
              "         [7.98456239e-003],\n",
              "         [9.68273890e-001],\n",
              "         [9.93254548e-001]],\n",
              "\n",
              "        [[9.97302093e-001],\n",
              "         [9.57353527e-001],\n",
              "         [2.81137097e-003],\n",
              "         ...,\n",
              "         [1.06259896e-001],\n",
              "         [9.80043876e-001],\n",
              "         [9.98499421e-001]]],\n",
              "\n",
              "\n",
              "       [[[1.00000000e+000],\n",
              "         [0.00000000e+000],\n",
              "         [1.00000000e+000],\n",
              "         ...,\n",
              "         [9.96131221e-001],\n",
              "         [4.23020242e-003],\n",
              "         [9.97551818e-001]],\n",
              "\n",
              "        [[1.00000000e+000],\n",
              "         [1.00000000e+000],\n",
              "         [1.00000000e+000],\n",
              "         ...,\n",
              "         [9.58155084e-001],\n",
              "         [2.70949651e-004],\n",
              "         [9.99239230e-001]],\n",
              "\n",
              "        [[7.10819685e-298],\n",
              "         [0.00000000e+000],\n",
              "         [9.14206188e-151],\n",
              "         ...,\n",
              "         [1.45561082e-007],\n",
              "         [9.98856605e-001],\n",
              "         [7.25602623e-001]],\n",
              "\n",
              "        ...,\n",
              "\n",
              "        [[6.55086594e-001],\n",
              "         [4.90215311e-001],\n",
              "         [2.79424050e-002],\n",
              "         ...,\n",
              "         [6.94660482e-003],\n",
              "         [9.98840204e-001],\n",
              "         [6.04061985e-003]],\n",
              "\n",
              "        [[1.47204521e-001],\n",
              "         [9.33059942e-001],\n",
              "         [6.24684658e-003],\n",
              "         ...,\n",
              "         [4.53117154e-001],\n",
              "         [9.94039521e-001],\n",
              "         [9.48630201e-003]],\n",
              "\n",
              "        [[9.01226177e-001],\n",
              "         [9.99751282e-001],\n",
              "         [5.07482924e-004],\n",
              "         ...,\n",
              "         [9.56364954e-001],\n",
              "         [9.97884451e-001],\n",
              "         [7.76008608e-002]]]])"
            ]
          },
          "metadata": {},
          "execution_count": 17
        }
      ]
    },
    {
      "cell_type": "code",
      "execution_count": null,
      "metadata": {
        "id": "ON-0sG5-PcAP",
        "colab": {
          "base_uri": "https://localhost:8080/"
        },
        "outputId": "ad88b9b5-1939-44b4-9f55-c270a370b577"
      },
      "outputs": [
        {
          "output_type": "execute_result",
          "data": {
            "text/plain": [
              "152"
            ]
          },
          "metadata": {},
          "execution_count": 18
        }
      ],
      "source": [
        "# device = cuda.get_current_device()\n",
        "# device\n",
        "torch.cuda.empty_cache()\n",
        "gc.collect()"
      ]
    },
    {
      "cell_type": "code",
      "execution_count": null,
      "metadata": {
        "id": "_WjJPgb9PrlU",
        "colab": {
          "base_uri": "https://localhost:8080/"
        },
        "outputId": "d77e44ad-8853-4a6a-ca64-ce7677de502d"
      },
      "outputs": [
        {
          "output_type": "stream",
          "name": "stdout",
          "text": [
            "Model: \"sequential\"\n",
            "_________________________________________________________________\n",
            " Layer (type)                Output Shape              Param #   \n",
            "=================================================================\n",
            " batch_normalization (BatchN  (None, 256, 256, 1)      4         \n",
            " ormalization)                                                   \n",
            "                                                                 \n",
            " conv2d (Conv2D)             (None, 256, 256, 6)       60        \n",
            "                                                                 \n",
            " max_pooling2d (MaxPooling2D  (None, 128, 128, 6)      0         \n",
            " )                                                               \n",
            "                                                                 \n",
            " batch_normalization_1 (Batc  (None, 128, 128, 6)      24        \n",
            " hNormalization)                                                 \n",
            "                                                                 \n",
            " conv2d_1 (Conv2D)           (None, 128, 128, 32)      1760      \n",
            "                                                                 \n",
            " max_pooling2d_1 (MaxPooling  (None, 64, 64, 32)       0         \n",
            " 2D)                                                             \n",
            "                                                                 \n",
            " batch_normalization_2 (Batc  (None, 64, 64, 32)       128       \n",
            " hNormalization)                                                 \n",
            "                                                                 \n",
            " dropout (Dropout)           (None, 64, 64, 32)        0         \n",
            "                                                                 \n",
            " conv2d_2 (Conv2D)           (None, 64, 64, 64)        18496     \n",
            "                                                                 \n",
            " max_pooling2d_2 (MaxPooling  (None, 32, 32, 64)       0         \n",
            " 2D)                                                             \n",
            "                                                                 \n",
            " batch_normalization_3 (Batc  (None, 32, 32, 64)       256       \n",
            " hNormalization)                                                 \n",
            "                                                                 \n",
            " dropout_1 (Dropout)         (None, 32, 32, 64)        0         \n",
            "                                                                 \n",
            " global_average_pooling2d (G  (None, 64)               0         \n",
            " lobalAveragePooling2D)                                          \n",
            "                                                                 \n",
            " flatten (Flatten)           (None, 64)                0         \n",
            "                                                                 \n",
            " dense (Dense)               (None, 256)               16640     \n",
            "                                                                 \n",
            " dense_1 (Dense)             (None, 128)               32896     \n",
            "                                                                 \n",
            " dropout_2 (Dropout)         (None, 128)               0         \n",
            "                                                                 \n",
            " dense_2 (Dense)             (None, 1)                 129       \n",
            "                                                                 \n",
            "=================================================================\n",
            "Total params: 70,393\n",
            "Trainable params: 70,187\n",
            "Non-trainable params: 206\n",
            "_________________________________________________________________\n"
          ]
        }
      ],
      "source": [
        "from keras.layers import Conv2D, MaxPooling2D, GlobalAveragePooling2D\n",
        "from keras.layers import Dropout, Flatten, Dense\n",
        "from keras.models import Sequential\n",
        "from tensorflow.keras.models import Sequential\n",
        "from tensorflow.keras.layers import (\n",
        "    BatchNormalization, SeparableConv2D, MaxPooling2D, Activation, Flatten, Dropout, Dense\n",
        ")\n",
        "from tensorflow.keras import backend as K\n",
        "\n",
        "\n",
        "# Pamameters Initialization\n",
        "inputShape = (x_train.shape[1], x_train.shape[2],x_train.shape[3])\n",
        "activation = 'sigmoid' # change to relu\n",
        "padding = 'same'\n",
        "droprate = 0.1\n",
        "epsilon=0.001\n",
        "model = Sequential()\n",
        "model.add(keras.Input(shape=inputShape))\n",
        "model.add(BatchNormalization(input_shape=inputShape))\n",
        "model.add(Conv2D(filters=6, kernel_size=3, activation=activation, padding=padding))\n",
        "model.add(MaxPooling2D(pool_size=2))\n",
        "model.add(BatchNormalization(epsilon=epsilon))\n",
        "\n",
        "\n",
        "model.add(Conv2D(filters=32, kernel_size=3, activation=activation, padding=padding))\n",
        "model.add(MaxPooling2D(pool_size=2))\n",
        "model.add(BatchNormalization(epsilon=epsilon))\n",
        "model.add(Dropout(droprate))\n",
        "\n",
        "model.add(Conv2D(filters=64, kernel_size=3, activation=activation, padding=padding))\n",
        "model.add(MaxPooling2D(pool_size=2))\n",
        "model.add(BatchNormalization(epsilon=epsilon))\n",
        "model.add(Dropout(droprate))\n",
        "\n",
        "model.add(GlobalAveragePooling2D())\n",
        "model.add(Flatten())\n",
        "model.add(Dense(256, kernel_initializer='glorot_normal', activation='relu'))\n",
        "          \n",
        "model.add(Dense(128, kernel_initializer='glorot_normal', activation='relu'))\n",
        "model.add(Dropout(0.5))\n",
        "\n",
        "model.add(Dense(1, activation='sigmoid'))\n",
        "\n",
        "model.summary() # Summary of the architecture"
      ]
    },
    {
      "cell_type": "code",
      "execution_count": null,
      "metadata": {
        "id": "5cWWGVbWQNWq"
      },
      "outputs": [],
      "source": [
        "#from tensorflow.keras.optimizers import RMSprop\n",
        "#opt = rmsprop(lr=0.0001, decay=1e-6)\n",
        "#opt = Adam(lr=0.001, decay=1e-6)\n",
        "#model.compile(loss='Loss',optimizer=keras.optimizers.SGD(0.001), metrics=['accuracy'])\n",
        "#optimizer = tf.keras.optimizers.SGD(learning_rate=0.00001, decay=1e-6)\n",
        "model.compile(optimizer = 'adam', loss = 'BinaryCrossentropy',\n",
        "             metrics=['accuracy'])"
      ]
    },
    {
      "cell_type": "code",
      "source": [
        "history = model.fit(x_train, \n",
        "                    y_train, \n",
        "                    batch_size = 16, \n",
        "                    epochs = 200, \n",
        "                    verbose = 1, \n",
        "                    validation_split = 0.2, \n",
        "                    shuffle = True)"
      ],
      "metadata": {
        "id": "R0XZPPcg1aPJ",
        "colab": {
          "base_uri": "https://localhost:8080/"
        },
        "outputId": "083524d3-33cd-4f1d-cb8d-0ae7cb709a41"
      },
      "execution_count": null,
      "outputs": [
        {
          "output_type": "stream",
          "name": "stdout",
          "text": [
            "Epoch 1/100\n",
            "160/160 [==============================] - 14s 23ms/step - loss: 0.6885 - accuracy: 0.5629 - val_loss: 0.6962 - val_accuracy: 0.5109\n",
            "Epoch 2/100\n",
            "160/160 [==============================] - 3s 18ms/step - loss: 0.6793 - accuracy: 0.5863 - val_loss: 0.9278 - val_accuracy: 0.5109\n",
            "Epoch 3/100\n",
            "160/160 [==============================] - 3s 18ms/step - loss: 0.6674 - accuracy: 0.5977 - val_loss: 0.7737 - val_accuracy: 0.5516\n",
            "Epoch 4/100\n",
            "160/160 [==============================] - 3s 18ms/step - loss: 0.6573 - accuracy: 0.6199 - val_loss: 0.8487 - val_accuracy: 0.5375\n",
            "Epoch 5/100\n",
            "160/160 [==============================] - 3s 18ms/step - loss: 0.6603 - accuracy: 0.6141 - val_loss: 0.7128 - val_accuracy: 0.5750\n",
            "Epoch 6/100\n",
            "160/160 [==============================] - 3s 18ms/step - loss: 0.6538 - accuracy: 0.6238 - val_loss: 0.7092 - val_accuracy: 0.5437\n",
            "Epoch 7/100\n",
            "160/160 [==============================] - 3s 18ms/step - loss: 0.6447 - accuracy: 0.6250 - val_loss: 0.7832 - val_accuracy: 0.5656\n",
            "Epoch 8/100\n",
            "160/160 [==============================] - 3s 18ms/step - loss: 0.6434 - accuracy: 0.6266 - val_loss: 0.6633 - val_accuracy: 0.6109\n",
            "Epoch 9/100\n",
            "160/160 [==============================] - 3s 18ms/step - loss: 0.6379 - accuracy: 0.6359 - val_loss: 0.6330 - val_accuracy: 0.6484\n",
            "Epoch 10/100\n",
            "160/160 [==============================] - 3s 18ms/step - loss: 0.6316 - accuracy: 0.6500 - val_loss: 0.6538 - val_accuracy: 0.6328\n",
            "Epoch 11/100\n",
            "160/160 [==============================] - 3s 19ms/step - loss: 0.6226 - accuracy: 0.6633 - val_loss: 0.6736 - val_accuracy: 0.6344\n",
            "Epoch 12/100\n",
            "160/160 [==============================] - 3s 20ms/step - loss: 0.6205 - accuracy: 0.6664 - val_loss: 0.7323 - val_accuracy: 0.6047\n",
            "Epoch 13/100\n",
            "160/160 [==============================] - 3s 18ms/step - loss: 0.6165 - accuracy: 0.6598 - val_loss: 0.7012 - val_accuracy: 0.5750\n",
            "Epoch 14/100\n",
            "160/160 [==============================] - 3s 19ms/step - loss: 0.6088 - accuracy: 0.6676 - val_loss: 0.6401 - val_accuracy: 0.6422\n",
            "Epoch 15/100\n",
            "160/160 [==============================] - 3s 18ms/step - loss: 0.6079 - accuracy: 0.6840 - val_loss: 0.6447 - val_accuracy: 0.6391\n",
            "Epoch 16/100\n",
            "160/160 [==============================] - 3s 19ms/step - loss: 0.6099 - accuracy: 0.6730 - val_loss: 0.6429 - val_accuracy: 0.6281\n",
            "Epoch 17/100\n",
            "160/160 [==============================] - 3s 18ms/step - loss: 0.6027 - accuracy: 0.6875 - val_loss: 0.6446 - val_accuracy: 0.6406\n",
            "Epoch 18/100\n",
            "160/160 [==============================] - 3s 19ms/step - loss: 0.5890 - accuracy: 0.6930 - val_loss: 0.6424 - val_accuracy: 0.6375\n",
            "Epoch 19/100\n",
            "160/160 [==============================] - 3s 19ms/step - loss: 0.5810 - accuracy: 0.6926 - val_loss: 0.7275 - val_accuracy: 0.5984\n",
            "Epoch 20/100\n",
            "160/160 [==============================] - 3s 18ms/step - loss: 0.5765 - accuracy: 0.6945 - val_loss: 0.6892 - val_accuracy: 0.5813\n",
            "Epoch 21/100\n",
            "160/160 [==============================] - 3s 18ms/step - loss: 0.5693 - accuracy: 0.7004 - val_loss: 0.6427 - val_accuracy: 0.6328\n",
            "Epoch 22/100\n",
            "160/160 [==============================] - 3s 19ms/step - loss: 0.5694 - accuracy: 0.6977 - val_loss: 0.6510 - val_accuracy: 0.6500\n",
            "Epoch 23/100\n",
            "160/160 [==============================] - 3s 18ms/step - loss: 0.5535 - accuracy: 0.7176 - val_loss: 0.6857 - val_accuracy: 0.6766\n",
            "Epoch 24/100\n",
            "160/160 [==============================] - 3s 19ms/step - loss: 0.5540 - accuracy: 0.7129 - val_loss: 0.6658 - val_accuracy: 0.5922\n",
            "Epoch 25/100\n",
            "160/160 [==============================] - 3s 19ms/step - loss: 0.5409 - accuracy: 0.7219 - val_loss: 0.7360 - val_accuracy: 0.5672\n",
            "Epoch 26/100\n",
            "160/160 [==============================] - 3s 19ms/step - loss: 0.5362 - accuracy: 0.7191 - val_loss: 0.6451 - val_accuracy: 0.6125\n",
            "Epoch 27/100\n",
            "160/160 [==============================] - 3s 19ms/step - loss: 0.5349 - accuracy: 0.7297 - val_loss: 0.7856 - val_accuracy: 0.5969\n",
            "Epoch 28/100\n",
            "160/160 [==============================] - 3s 18ms/step - loss: 0.5129 - accuracy: 0.7441 - val_loss: 0.6346 - val_accuracy: 0.6297\n",
            "Epoch 29/100\n",
            "160/160 [==============================] - 3s 18ms/step - loss: 0.4965 - accuracy: 0.7574 - val_loss: 0.6787 - val_accuracy: 0.5953\n",
            "Epoch 30/100\n",
            "160/160 [==============================] - 3s 18ms/step - loss: 0.4969 - accuracy: 0.7531 - val_loss: 0.7547 - val_accuracy: 0.6406\n",
            "Epoch 31/100\n",
            "160/160 [==============================] - 3s 20ms/step - loss: 0.4774 - accuracy: 0.7680 - val_loss: 0.9337 - val_accuracy: 0.6266\n",
            "Epoch 32/100\n",
            "160/160 [==============================] - 3s 20ms/step - loss: 0.4586 - accuracy: 0.7805 - val_loss: 0.6897 - val_accuracy: 0.6359\n",
            "Epoch 33/100\n",
            "160/160 [==============================] - 3s 19ms/step - loss: 0.4507 - accuracy: 0.7879 - val_loss: 0.7707 - val_accuracy: 0.5875\n",
            "Epoch 34/100\n",
            "160/160 [==============================] - 3s 19ms/step - loss: 0.4446 - accuracy: 0.7855 - val_loss: 0.7772 - val_accuracy: 0.6031\n",
            "Epoch 35/100\n",
            "160/160 [==============================] - 3s 19ms/step - loss: 0.4042 - accuracy: 0.8125 - val_loss: 0.8783 - val_accuracy: 0.6609\n",
            "Epoch 36/100\n",
            "160/160 [==============================] - 3s 18ms/step - loss: 0.4055 - accuracy: 0.8141 - val_loss: 0.7636 - val_accuracy: 0.6313\n",
            "Epoch 37/100\n",
            "160/160 [==============================] - 3s 18ms/step - loss: 0.3805 - accuracy: 0.8254 - val_loss: 0.8095 - val_accuracy: 0.6141\n",
            "Epoch 38/100\n",
            "160/160 [==============================] - 3s 19ms/step - loss: 0.3523 - accuracy: 0.8406 - val_loss: 1.0302 - val_accuracy: 0.5797\n",
            "Epoch 39/100\n",
            "160/160 [==============================] - 3s 18ms/step - loss: 0.3354 - accuracy: 0.8547 - val_loss: 0.7704 - val_accuracy: 0.6625\n",
            "Epoch 40/100\n",
            "160/160 [==============================] - 3s 18ms/step - loss: 0.3145 - accuracy: 0.8676 - val_loss: 1.0601 - val_accuracy: 0.6313\n",
            "Epoch 41/100\n",
            "160/160 [==============================] - 3s 19ms/step - loss: 0.2991 - accuracy: 0.8707 - val_loss: 1.3333 - val_accuracy: 0.6156\n",
            "Epoch 42/100\n",
            "160/160 [==============================] - 3s 19ms/step - loss: 0.2799 - accuracy: 0.8703 - val_loss: 0.8482 - val_accuracy: 0.6109\n",
            "Epoch 43/100\n",
            "160/160 [==============================] - 3s 19ms/step - loss: 0.2696 - accuracy: 0.8891 - val_loss: 1.4141 - val_accuracy: 0.5813\n",
            "Epoch 44/100\n",
            "160/160 [==============================] - 3s 18ms/step - loss: 0.2621 - accuracy: 0.8898 - val_loss: 0.9507 - val_accuracy: 0.6687\n",
            "Epoch 45/100\n",
            "160/160 [==============================] - 3s 19ms/step - loss: 0.2554 - accuracy: 0.8980 - val_loss: 0.9623 - val_accuracy: 0.6062\n",
            "Epoch 46/100\n",
            "160/160 [==============================] - 3s 18ms/step - loss: 0.2209 - accuracy: 0.9109 - val_loss: 1.0264 - val_accuracy: 0.6313\n",
            "Epoch 47/100\n",
            "160/160 [==============================] - 3s 20ms/step - loss: 0.2039 - accuracy: 0.9184 - val_loss: 1.0833 - val_accuracy: 0.6516\n",
            "Epoch 48/100\n",
            "160/160 [==============================] - 3s 19ms/step - loss: 0.2051 - accuracy: 0.9160 - val_loss: 2.3386 - val_accuracy: 0.5797\n",
            "Epoch 49/100\n",
            "160/160 [==============================] - 3s 19ms/step - loss: 0.1897 - accuracy: 0.9230 - val_loss: 1.6390 - val_accuracy: 0.5875\n",
            "Epoch 50/100\n",
            "160/160 [==============================] - 3s 18ms/step - loss: 0.1741 - accuracy: 0.9281 - val_loss: 1.0333 - val_accuracy: 0.6812\n",
            "Epoch 51/100\n",
            "160/160 [==============================] - 3s 19ms/step - loss: 0.1745 - accuracy: 0.9305 - val_loss: 1.5072 - val_accuracy: 0.6656\n",
            "Epoch 52/100\n",
            "160/160 [==============================] - 3s 19ms/step - loss: 0.1902 - accuracy: 0.9250 - val_loss: 2.1327 - val_accuracy: 0.6109\n",
            "Epoch 53/100\n",
            "160/160 [==============================] - 3s 19ms/step - loss: 0.1778 - accuracy: 0.9273 - val_loss: 1.1984 - val_accuracy: 0.6500\n",
            "Epoch 54/100\n",
            "160/160 [==============================] - 3s 19ms/step - loss: 0.1653 - accuracy: 0.9328 - val_loss: 1.0209 - val_accuracy: 0.6641\n",
            "Epoch 55/100\n",
            "160/160 [==============================] - 3s 18ms/step - loss: 0.1510 - accuracy: 0.9383 - val_loss: 1.6696 - val_accuracy: 0.6250\n",
            "Epoch 56/100\n",
            "160/160 [==============================] - 3s 19ms/step - loss: 0.1790 - accuracy: 0.9266 - val_loss: 1.1078 - val_accuracy: 0.6609\n",
            "Epoch 57/100\n",
            "160/160 [==============================] - 3s 19ms/step - loss: 0.1519 - accuracy: 0.9469 - val_loss: 1.2653 - val_accuracy: 0.6406\n",
            "Epoch 58/100\n",
            "160/160 [==============================] - 3s 18ms/step - loss: 0.1688 - accuracy: 0.9336 - val_loss: 1.1962 - val_accuracy: 0.6609\n",
            "Epoch 59/100\n",
            "160/160 [==============================] - 3s 19ms/step - loss: 0.1228 - accuracy: 0.9535 - val_loss: 1.2050 - val_accuracy: 0.6297\n",
            "Epoch 60/100\n",
            "160/160 [==============================] - 3s 18ms/step - loss: 0.1554 - accuracy: 0.9359 - val_loss: 1.0803 - val_accuracy: 0.6672\n",
            "Epoch 61/100\n",
            "160/160 [==============================] - 3s 18ms/step - loss: 0.1484 - accuracy: 0.9430 - val_loss: 1.1257 - val_accuracy: 0.6719\n",
            "Epoch 62/100\n",
            "160/160 [==============================] - 3s 19ms/step - loss: 0.1211 - accuracy: 0.9543 - val_loss: 1.1367 - val_accuracy: 0.6578\n",
            "Epoch 63/100\n",
            "160/160 [==============================] - 3s 19ms/step - loss: 0.1456 - accuracy: 0.9445 - val_loss: 1.3417 - val_accuracy: 0.6703\n",
            "Epoch 64/100\n",
            "160/160 [==============================] - 3s 18ms/step - loss: 0.1289 - accuracy: 0.9469 - val_loss: 1.8483 - val_accuracy: 0.6453\n",
            "Epoch 65/100\n",
            "160/160 [==============================] - 3s 18ms/step - loss: 0.1055 - accuracy: 0.9586 - val_loss: 2.2752 - val_accuracy: 0.5891\n",
            "Epoch 66/100\n",
            "160/160 [==============================] - 3s 18ms/step - loss: 0.1246 - accuracy: 0.9453 - val_loss: 1.5605 - val_accuracy: 0.6281\n",
            "Epoch 67/100\n",
            "160/160 [==============================] - 3s 18ms/step - loss: 0.1249 - accuracy: 0.9535 - val_loss: 1.7510 - val_accuracy: 0.5953\n",
            "Epoch 68/100\n",
            "160/160 [==============================] - 3s 18ms/step - loss: 0.1293 - accuracy: 0.9535 - val_loss: 1.2824 - val_accuracy: 0.6672\n",
            "Epoch 69/100\n",
            "160/160 [==============================] - 3s 18ms/step - loss: 0.1478 - accuracy: 0.9379 - val_loss: 1.3152 - val_accuracy: 0.6422\n",
            "Epoch 70/100\n",
            "160/160 [==============================] - 3s 19ms/step - loss: 0.1127 - accuracy: 0.9566 - val_loss: 2.0845 - val_accuracy: 0.5453\n",
            "Epoch 71/100\n",
            "160/160 [==============================] - 3s 18ms/step - loss: 0.1057 - accuracy: 0.9621 - val_loss: 1.4232 - val_accuracy: 0.6422\n",
            "Epoch 72/100\n",
            "160/160 [==============================] - 3s 19ms/step - loss: 0.1083 - accuracy: 0.9625 - val_loss: 1.4424 - val_accuracy: 0.6469\n",
            "Epoch 73/100\n",
            "160/160 [==============================] - 3s 19ms/step - loss: 0.0903 - accuracy: 0.9699 - val_loss: 1.4420 - val_accuracy: 0.6281\n",
            "Epoch 74/100\n",
            "160/160 [==============================] - 3s 19ms/step - loss: 0.1351 - accuracy: 0.9473 - val_loss: 1.4663 - val_accuracy: 0.6562\n",
            "Epoch 75/100\n",
            "160/160 [==============================] - 3s 19ms/step - loss: 0.1026 - accuracy: 0.9617 - val_loss: 1.4771 - val_accuracy: 0.6781\n",
            "Epoch 76/100\n",
            "160/160 [==============================] - 3s 19ms/step - loss: 0.1094 - accuracy: 0.9594 - val_loss: 1.8324 - val_accuracy: 0.6187\n",
            "Epoch 77/100\n",
            "160/160 [==============================] - 3s 22ms/step - loss: 0.0952 - accuracy: 0.9625 - val_loss: 1.2845 - val_accuracy: 0.6719\n",
            "Epoch 78/100\n",
            "160/160 [==============================] - 4s 27ms/step - loss: 0.1331 - accuracy: 0.9488 - val_loss: 1.3346 - val_accuracy: 0.6359\n",
            "Epoch 79/100\n",
            "160/160 [==============================] - 4s 25ms/step - loss: 0.1100 - accuracy: 0.9613 - val_loss: 1.4072 - val_accuracy: 0.6141\n",
            "Epoch 80/100\n",
            "160/160 [==============================] - 3s 19ms/step - loss: 0.1173 - accuracy: 0.9539 - val_loss: 1.2537 - val_accuracy: 0.6594\n",
            "Epoch 81/100\n",
            "160/160 [==============================] - 3s 19ms/step - loss: 0.0922 - accuracy: 0.9664 - val_loss: 1.3518 - val_accuracy: 0.6562\n",
            "Epoch 82/100\n",
            "160/160 [==============================] - 4s 22ms/step - loss: 0.0890 - accuracy: 0.9703 - val_loss: 1.2467 - val_accuracy: 0.6641\n",
            "Epoch 83/100\n",
            "160/160 [==============================] - 3s 20ms/step - loss: 0.0821 - accuracy: 0.9723 - val_loss: 1.6979 - val_accuracy: 0.6656\n",
            "Epoch 84/100\n",
            "160/160 [==============================] - 3s 19ms/step - loss: 0.1238 - accuracy: 0.9520 - val_loss: 1.2613 - val_accuracy: 0.6766\n",
            "Epoch 85/100\n",
            "160/160 [==============================] - 3s 18ms/step - loss: 0.0868 - accuracy: 0.9648 - val_loss: 1.4426 - val_accuracy: 0.6531\n",
            "Epoch 86/100\n",
            "160/160 [==============================] - 3s 19ms/step - loss: 0.0799 - accuracy: 0.9703 - val_loss: 1.3801 - val_accuracy: 0.6750\n",
            "Epoch 87/100\n",
            "160/160 [==============================] - 3s 18ms/step - loss: 0.1004 - accuracy: 0.9613 - val_loss: 2.2990 - val_accuracy: 0.5859\n",
            "Epoch 88/100\n",
            "160/160 [==============================] - 3s 19ms/step - loss: 0.0999 - accuracy: 0.9652 - val_loss: 1.3548 - val_accuracy: 0.6547\n",
            "Epoch 89/100\n",
            "160/160 [==============================] - 3s 18ms/step - loss: 0.1068 - accuracy: 0.9539 - val_loss: 1.2738 - val_accuracy: 0.6703\n",
            "Epoch 90/100\n",
            "160/160 [==============================] - 3s 18ms/step - loss: 0.0750 - accuracy: 0.9738 - val_loss: 1.3637 - val_accuracy: 0.6609\n",
            "Epoch 91/100\n",
            "160/160 [==============================] - 3s 18ms/step - loss: 0.0873 - accuracy: 0.9688 - val_loss: 1.5347 - val_accuracy: 0.6484\n",
            "Epoch 92/100\n",
            "160/160 [==============================] - 3s 19ms/step - loss: 0.1063 - accuracy: 0.9641 - val_loss: 1.5552 - val_accuracy: 0.6094\n",
            "Epoch 93/100\n",
            "160/160 [==============================] - 3s 19ms/step - loss: 0.0837 - accuracy: 0.9691 - val_loss: 1.7672 - val_accuracy: 0.6328\n",
            "Epoch 94/100\n",
            "160/160 [==============================] - 3s 18ms/step - loss: 0.0666 - accuracy: 0.9770 - val_loss: 1.6450 - val_accuracy: 0.6578\n",
            "Epoch 95/100\n",
            "160/160 [==============================] - 3s 18ms/step - loss: 0.0992 - accuracy: 0.9641 - val_loss: 1.5281 - val_accuracy: 0.6562\n",
            "Epoch 96/100\n",
            "160/160 [==============================] - 3s 19ms/step - loss: 0.1011 - accuracy: 0.9594 - val_loss: 2.8163 - val_accuracy: 0.5375\n",
            "Epoch 97/100\n",
            "160/160 [==============================] - 3s 19ms/step - loss: 0.0987 - accuracy: 0.9637 - val_loss: 1.4334 - val_accuracy: 0.6656\n",
            "Epoch 98/100\n",
            "160/160 [==============================] - 3s 19ms/step - loss: 0.0966 - accuracy: 0.9648 - val_loss: 1.4347 - val_accuracy: 0.6328\n",
            "Epoch 99/100\n",
            "160/160 [==============================] - 3s 19ms/step - loss: 0.0772 - accuracy: 0.9699 - val_loss: 1.5663 - val_accuracy: 0.6594\n",
            "Epoch 100/100\n",
            "160/160 [==============================] - 3s 19ms/step - loss: 0.0822 - accuracy: 0.9691 - val_loss: 1.4470 - val_accuracy: 0.6438\n"
          ]
        }
      ]
    },
    {
      "cell_type": "code",
      "source": [
        "plt.plot(history.history[\"accuracy\"])\n",
        "plt.plot(history.history[\"val_accuracy\"])\n",
        "plt.title(\"Model accuracy\")\n",
        "plt.ylabel(\"Accuracy\")\n",
        "plt.xlabel(\"Epoch\")\n",
        "plt.legend([\"Train\", \"Test\"])\n",
        "plt.show()"
      ],
      "metadata": {
        "id": "mz2r72SUPfTI",
        "colab": {
          "base_uri": "https://localhost:8080/",
          "height": 295
        },
        "outputId": "ffd41240-491e-4ce1-fd0e-6ffd3e475869"
      },
      "execution_count": null,
      "outputs": [
        {
          "output_type": "display_data",
          "data": {
            "text/plain": [
              "<Figure size 432x288 with 1 Axes>"
            ],
            "image/png": "[encoded data removed]"
          },
          "metadata": {
            "needs_background": "light"
          }
        }
      ]
    },
    {
      "cell_type": "code",
      "source": [
        "y_pred = model.predict(x_test)"
      ],
      "metadata": {
        "id": "rzfKm3VW8RQc"
      },
      "execution_count": null,
      "outputs": []
    },
    {
      "cell_type": "code",
      "source": [
        "y_pred.shape[0]"
      ],
      "metadata": {
        "id": "joeOyWHePuvv",
        "colab": {
          "base_uri": "https://localhost:8080/"
        },
        "outputId": "4db1ff22-a412-4374-d444-a12fffeb89f7"
      },
      "execution_count": null,
      "outputs": [
        {
          "output_type": "execute_result",
          "data": {
            "text/plain": [
              "800"
            ]
          },
          "metadata": {},
          "execution_count": 24
        }
      ]
    },
    {
      "cell_type": "code",
      "source": [
        "y_pred = y_pred.reshape(y_pred.shape[0],)\n",
        "y_pred_og = y_pred\n",
        "y_pred = np.around(y_pred)"
      ],
      "metadata": {
        "id": "41XduSLlP6rp"
      },
      "execution_count": null,
      "outputs": []
    },
    {
      "cell_type": "code",
      "source": [
        "def get_accuracy(y_pred, y_test):\n",
        "  total_correct = 0.0\n",
        "  for i in range(y_pred.shape[0]):\n",
        "    if (y_pred[i] == y_test[i]):\n",
        "      total_correct += 1.0\n",
        "  return total_correct / y_pred.shape[0]\n"
      ],
      "metadata": {
        "id": "elaCgOl9Pb_Z"
      },
      "execution_count": null,
      "outputs": []
    },
    {
      "cell_type": "code",
      "source": [
        "get_accuracy(y_pred, y_test)"
      ],
      "metadata": {
        "id": "UBjatLs6Qsau",
        "colab": {
          "base_uri": "https://localhost:8080/"
        },
        "outputId": "9d722eea-b72e-45b5-dc80-bbd1832b9491"
      },
      "execution_count": null,
      "outputs": [
        {
          "output_type": "execute_result",
          "data": {
            "text/plain": [
              "0.60875"
            ]
          },
          "metadata": {},
          "execution_count": 27
        }
      ]
    },
    {
      "cell_type": "code",
      "source": [
        "conf_m = tf.math.confusion_matrix(y_test,y_pred)\n",
        "conf_m"
      ],
      "metadata": {
        "id": "uwOf-RvBrnDD",
        "colab": {
          "base_uri": "https://localhost:8080/"
        },
        "outputId": "6886c73d-0721-45cf-e716-ec9cef22192c"
      },
      "execution_count": null,
      "outputs": [
        {
          "output_type": "execute_result",
          "data": {
            "text/plain": [
              "<tf.Tensor: shape=(2, 2), dtype=int32, numpy=\n",
              "array([[263, 137],\n",
              "       [176, 224]], dtype=int32)>"
            ]
          },
          "metadata": {},
          "execution_count": 28
        }
      ]
    },
    {
      "cell_type": "code",
      "source": [
        "from sklearn import metrics\n",
        "\n",
        "confusion_matrix = metrics.confusion_matrix(y_test, y_pred)\n",
        "\n",
        "cm_display = metrics.ConfusionMatrixDisplay(confusion_matrix = confusion_matrix, display_labels = [True, False])\n",
        "\n",
        "cm_display.plot()\n",
        "plt.show()"
      ],
      "metadata": {
        "id": "BLZPUTWomsdn",
        "colab": {
          "base_uri": "https://localhost:8080/",
          "height": 279
        },
        "outputId": "c394e3a7-0a76-4452-e311-159a5c0119dd"
      },
      "execution_count": null,
      "outputs": [
        {
          "output_type": "display_data",
          "data": {
            "text/plain": [
              "<Figure size 432x288 with 2 Axes>"
            ],
            "image/png": "[encoded data removed]"
          },
          "metadata": {
            "needs_background": "light"
          }
        }
      ]
    },
    {
      "cell_type": "code",
      "source": [
        "from sklearn.metrics import classification_report\n",
        "from sklearn.metrics import roc_curve\n",
        "from sklearn.metrics import auc\n",
        "from sklearn.metrics import RocCurveDisplay"
      ],
      "metadata": {
        "id": "LZMhc8zktMH3"
      },
      "execution_count": null,
      "outputs": []
    },
    {
      "cell_type": "code",
      "source": [
        "print(classification_report(y_test, y_pred))\n",
        "\n",
        "fpr_keras, tpr_keras, thresholds_keras = roc_curve(y_test, y_pred_og, pos_label=1)\n",
        "auc_keras = auc(fpr_keras, tpr_keras)\n",
        "\n",
        "plt.figure(1)\n",
        "plt.plot([0, 1], [0, 1], 'k--')\n",
        "plt.plot(fpr_keras, tpr_keras, label='Sequential Model (area = {:.3f})'.format(auc_keras))\n",
        "plt.xlabel('False positive rate')\n",
        "plt.ylabel('True positive rate')\n",
        "plt.title('ROC curve')\n",
        "plt.legend(loc='best')\n",
        "plt.show()"
      ],
      "metadata": {
        "id": "ASrf6QX2tOLq",
        "colab": {
          "base_uri": "https://localhost:8080/",
          "height": 448
        },
        "outputId": "a7ef1e0a-4208-43f4-e20f-7daa8e28f498"
      },
      "execution_count": null,
      "outputs": [
        {
          "output_type": "stream",
          "name": "stdout",
          "text": [
            "              precision    recall  f1-score   support\n",
            "\n",
            "           0       0.60      0.66      0.63       400\n",
            "           1       0.62      0.56      0.59       400\n",
            "\n",
            "    accuracy                           0.61       800\n",
            "   macro avg       0.61      0.61      0.61       800\n",
            "weighted avg       0.61      0.61      0.61       800\n",
            "\n"
          ]
        },
        {
          "output_type": "display_data",
          "data": {
            "text/plain": [
              "<Figure size 432x288 with 1 Axes>"
            ],
            "image/png": "[encoded data removed]"
          },
          "metadata": {
            "needs_background": "light"
          }
        }
      ]
    },
    {
      "cell_type": "code",
      "source": [
        ""
      ],
      "metadata": {
        "id": "Y4rcWTb0v8V0"
      },
      "execution_count": null,
      "outputs": []
    }
  ],
  "metadata": {
    "colab": {
      "collapsed_sections": [],
      "machine_shape": "hm",
      "name": "DeepFakeDetection[Git].ipynb",
      "provenance": [],
      "include_colab_link": true
    },
    "gpuClass": "standard",
    "kernelspec": {
      "display_name": "Python 3",
      "name": "python3"
    },
    "language_info": {
      "name": "python"
    },
    "accelerator": "GPU"
  },
  "nbformat": 4,
  "nbformat_minor": 0
}