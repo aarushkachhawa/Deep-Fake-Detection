{
  "cells": [
    {
      "cell_type": "markdown",
      "metadata": {
        "id": "view-in-github",
        "colab_type": "text"
      },
      "source": [
        "<a href=\"https://colab.research.google.com/github/aarushkachhawa/Deep-Fake-Detection/blob/main/DeepFakeDetection%5BGit%5D.ipynb\" target=\"_parent\"><img src=\"https://colab.research.google.com/assets/colab-badge.svg\" alt=\"Open In Colab\"/></a>"
      ]
    },
    {
      "cell_type": "code",
      "execution_count": 12,
      "metadata": {
        "colab": {
          "base_uri": "https://localhost:8080/"
        },
        "id": "LRkww81_Qa02",
        "outputId": "e8dd463c-68e8-440e-aa7e-75a8ddfa27f8"
      },
      "outputs": [
        {
          "output_type": "stream",
          "name": "stdout",
          "text": [
            "Drive already mounted at /content/gdrive; to attempt to forcibly remount, call drive.mount(\"/content/gdrive\", force_remount=True).\n",
            "replace real_vs_fake/real-vs-fake/test/fake/00276TOPP4.jpg? [y]es, [n]o, [A]ll, [N]one, [r]ename: n\n",
            "replace real_vs_fake/real-vs-fake/test/fake/008BYSE725.jpg? [y]es, [n]o, [A]ll, [N]one, [r]ename: "
          ]
        }
      ],
      "source": [
        "from google.colab import drive\n",
        "drive.mount('/content/gdrive')\n",
        "!unzip gdrive/My\\ Drive/data/archive.zip > /dev/null\n"
      ]
    },
    {
      "cell_type": "code",
      "execution_count": 13,
      "metadata": {
        "id": "E7brnzz-MJST",
        "colab": {
          "base_uri": "https://localhost:8080/"
        },
        "outputId": "ef19eacf-9810-47b3-c4d2-c07a906adf57"
      },
      "outputs": [
        {
          "output_type": "execute_result",
          "data": {
            "text/plain": [
              "<torch._C.Generator at 0x7fc04f8678d0>"
            ]
          },
          "metadata": {},
          "execution_count": 13
        }
      ],
      "source": [
        "from skimage.io import imread\n",
        "from skimage.color import convert_colorspace\n",
        "from skimage import exposure\n",
        "from skimage import feature\n",
        "from skimage.color import rgb2gray\n",
        "from skimage.transform import resize\n",
        "import pandas as pd\n",
        "import tensorflow as tf\n",
        "import torch\n",
        "from numba import cuda \n",
        "import time\n",
        "\n",
        "from tensorflow import keras\n",
        "\n",
        "device = 'cuda' if torch.cuda.is_available() else 'cpu'\n",
        "import cv2\n",
        "import os\n",
        "import tqdm\n",
        "\n",
        "import matplotlib.pyplot as plt\n",
        "import numpy as np\n",
        "from sklearn.model_selection import train_test_split\n",
        "\n",
        "from tensorflow import keras\n",
        "from keras import Sequential\n",
        "from keras.layers import Dense, Flatten, Conv2D, MaxPooling2D, Dropout\n",
        "from tensorflow.keras.utils import plot_model\n",
        "from keras import callbacks\n",
        "import keras\n",
        "from keras import losses\n",
        "import gc\n",
        "torch.manual_seed(111)"
      ]
    },
    {
      "cell_type": "code",
      "execution_count": 14,
      "metadata": {
        "id": "iZijEM0lN4BP",
        "colab": {
          "base_uri": "https://localhost:8080/",
          "height": 70
        },
        "outputId": "0cf91b3b-05ee-4984-8ae7-2886862d867f"
      },
      "outputs": [
        {
          "output_type": "execute_result",
          "data": {
            "text/plain": [
              "\"def preProcess(image):\\n    imgNewSpace = convert_colorspace(image, 'RGB', 'YCbCr')\\n    gammaEnhanced = exposure.adjust_gamma(imgNewSpace, 2)\\n    enhanced = convert_colorspace(gammaEnhanced, 'YCbCr','RGB')\\n    grayimg = rgb2gray(enhanced)\\n    edges = feature.canny(grayimg, sigma=3)\\n    return grayimg\""
            ],
            "application/vnd.google.colaboratory.intrinsic+json": {
              "type": "string"
            }
          },
          "metadata": {},
          "execution_count": 14
        }
      ],
      "source": [
        "\"\"\"def preProcess(image):\n",
        "    imgNewSpace = convert_colorspace(image, 'RGB', 'YCbCr')\n",
        "    gammaEnhanced = exposure.adjust_gamma(imgNewSpace, 2)\n",
        "    enhanced = convert_colorspace(gammaEnhanced, 'YCbCr','RGB')\n",
        "    grayimg = rgb2gray(enhanced)\n",
        "    edges = feature.canny(grayimg, sigma=3)\n",
        "    return grayimg\"\"\" \n"
      ]
    },
    {
      "cell_type": "code",
      "execution_count": 15,
      "metadata": {
        "id": "8AKAvYn3NCvo",
        "colab": {
          "base_uri": "https://localhost:8080/"
        },
        "outputId": "c42d218e-60a0-49e8-b379-7e992dbf0e20"
      },
      "outputs": [
        {
          "output_type": "execute_result",
          "data": {
            "text/plain": [
              "(256, 256)"
            ]
          },
          "metadata": {},
          "execution_count": 15
        }
      ],
      "source": [
        "from PIL import Image\n",
        "image = Image.open('/content/real_vs_fake/real-vs-fake/test/real/00001.jpg')\n",
        "image.size\n"
      ]
    },
    {
      "cell_type": "code",
      "execution_count": 15,
      "metadata": {
        "id": "L0oLB5c3RNOn"
      },
      "outputs": [],
      "source": [
        ""
      ]
    },
    {
      "cell_type": "code",
      "execution_count": 16,
      "metadata": {
        "id": "EhUk3_WxNpjJ",
        "colab": {
          "base_uri": "https://localhost:8080/",
          "height": 165
        },
        "outputId": "e6337ad0-498e-4573-cb9e-9afe54fabaed"
      },
      "outputs": [
        {
          "output_type": "error",
          "ename": "FileNotFoundError",
          "evalue": "ignored",
          "traceback": [
            "\u001b[0;31m---------------------------------------------------------------------------\u001b[0m",
            "\u001b[0;31mFileNotFoundError\u001b[0m                         Traceback (most recent call last)",
            "\u001b[0;32m<ipython-input-16-12f9fd47726c>\u001b[0m in \u001b[0;36m<module>\u001b[0;34m()\u001b[0m\n\u001b[0;32m----> 1\u001b[0;31m \u001b[0mos\u001b[0m\u001b[0;34m.\u001b[0m\u001b[0mlistdir\u001b[0m\u001b[0;34m(\u001b[0m\u001b[0;34m'real_sample/'\u001b[0m\u001b[0;34m)\u001b[0m\u001b[0;34m\u001b[0m\u001b[0;34m\u001b[0m\u001b[0m\n\u001b[0m",
            "\u001b[0;31mFileNotFoundError\u001b[0m: [Errno 2] No such file or directory: 'real_sample/'"
          ]
        }
      ],
      "source": [
        "os.listdir('real_sample/')"
      ]
    },
    {
      "cell_type": "code",
      "execution_count": 17,
      "metadata": {
        "id": "LQJ2uldVOYvO"
      },
      "outputs": [],
      "source": [
        "maxnum = 200\n",
        "def loadImages(dataPath, category):\n",
        "  flat_data_arr=[] #input array\n",
        "  target_arr=[] #output array\n",
        "  for i in range(len(dataPath)):\n",
        "    for image in os.listdir(dataPath[i])[:maxnum]:\n",
        "      if (not image.endswith('.jpg')):\n",
        "        continue\n",
        "      image_array = cv2.imread(os.path.join(dataPath[i], image))\n",
        "      if image_array is None:\n",
        "        print(image)\n",
        "      #print(image_array.shape)\n",
        "      image_resized = resize(image_array, (128,128,3))\n",
        "      #image_preprocess = preProcess(image_resized)\n",
        "      flat_data_arr.append(image_resized)\n",
        "      target_arr.append(category[i])\n",
        "      x = np.array(flat_data_arr)\n",
        "      y = np.array(target_arr)\n",
        "  return x, y"
      ]
    },
    {
      "cell_type": "code",
      "source": [
        "from google.colab import drive\n",
        "drive.mount('/content/drive')"
      ],
      "metadata": {
        "id": "tIrL94psnnDD",
        "colab": {
          "base_uri": "https://localhost:8080/",
          "height": 328
        },
        "outputId": "199120df-e90a-4c6d-a6cc-c2045468a177"
      },
      "execution_count": 18,
      "outputs": [
        {
          "output_type": "error",
          "ename": "KeyboardInterrupt",
          "evalue": "ignored",
          "traceback": [
            "\u001b[0;31m---------------------------------------------------------------------------\u001b[0m",
            "\u001b[0;31mKeyboardInterrupt\u001b[0m                         Traceback (most recent call last)",
            "\u001b[0;32m<ipython-input-18-d5df0069828e>\u001b[0m in \u001b[0;36m<module>\u001b[0;34m()\u001b[0m\n\u001b[1;32m      1\u001b[0m \u001b[0;32mfrom\u001b[0m \u001b[0mgoogle\u001b[0m\u001b[0;34m.\u001b[0m\u001b[0mcolab\u001b[0m \u001b[0;32mimport\u001b[0m \u001b[0mdrive\u001b[0m\u001b[0;34m\u001b[0m\u001b[0;34m\u001b[0m\u001b[0m\n\u001b[0;32m----> 2\u001b[0;31m \u001b[0mdrive\u001b[0m\u001b[0;34m.\u001b[0m\u001b[0mmount\u001b[0m\u001b[0;34m(\u001b[0m\u001b[0;34m'/content/drive'\u001b[0m\u001b[0;34m)\u001b[0m\u001b[0;34m\u001b[0m\u001b[0;34m\u001b[0m\u001b[0m\n\u001b[0m",
            "\u001b[0;32m/usr/local/lib/python3.7/dist-packages/google/colab/drive.py\u001b[0m in \u001b[0;36mmount\u001b[0;34m(mountpoint, force_remount, timeout_ms)\u001b[0m\n\u001b[1;32m    107\u001b[0m       \u001b[0mforce_remount\u001b[0m\u001b[0;34m=\u001b[0m\u001b[0mforce_remount\u001b[0m\u001b[0;34m,\u001b[0m\u001b[0;34m\u001b[0m\u001b[0;34m\u001b[0m\u001b[0m\n\u001b[1;32m    108\u001b[0m       \u001b[0mtimeout_ms\u001b[0m\u001b[0;34m=\u001b[0m\u001b[0mtimeout_ms\u001b[0m\u001b[0;34m,\u001b[0m\u001b[0;34m\u001b[0m\u001b[0;34m\u001b[0m\u001b[0m\n\u001b[0;32m--> 109\u001b[0;31m       ephemeral=True)\n\u001b[0m\u001b[1;32m    110\u001b[0m \u001b[0;34m\u001b[0m\u001b[0m\n\u001b[1;32m    111\u001b[0m \u001b[0;34m\u001b[0m\u001b[0m\n",
            "\u001b[0;32m/usr/local/lib/python3.7/dist-packages/google/colab/drive.py\u001b[0m in \u001b[0;36m_mount\u001b[0;34m(mountpoint, force_remount, timeout_ms, ephemeral)\u001b[0m\n\u001b[1;32m    173\u001b[0m       mnt=mountpoint))\n\u001b[1;32m    174\u001b[0m   \u001b[0;31m# Wait for above to be received, using the next prompt.\u001b[0m\u001b[0;34m\u001b[0m\u001b[0;34m\u001b[0m\u001b[0;34m\u001b[0m\u001b[0m\n\u001b[0;32m--> 175\u001b[0;31m   \u001b[0md\u001b[0m\u001b[0;34m.\u001b[0m\u001b[0mexpect\u001b[0m\u001b[0;34m(\u001b[0m\u001b[0mprompt\u001b[0m\u001b[0;34m)\u001b[0m\u001b[0;34m\u001b[0m\u001b[0;34m\u001b[0m\u001b[0m\n\u001b[0m\u001b[1;32m    176\u001b[0m   \u001b[0md\u001b[0m\u001b[0;34m.\u001b[0m\u001b[0msendline\u001b[0m\u001b[0;34m(\u001b[0m\u001b[0;34m'pkill -9 -f {d}/directoryprefetcher_binary'\u001b[0m\u001b[0;34m.\u001b[0m\u001b[0mformat\u001b[0m\u001b[0;34m(\u001b[0m\u001b[0md\u001b[0m\u001b[0;34m=\u001b[0m\u001b[0mdrive_dir\u001b[0m\u001b[0;34m)\u001b[0m\u001b[0;34m)\u001b[0m\u001b[0;34m\u001b[0m\u001b[0;34m\u001b[0m\u001b[0m\n\u001b[1;32m    177\u001b[0m   \u001b[0md\u001b[0m\u001b[0;34m.\u001b[0m\u001b[0mexpect\u001b[0m\u001b[0;34m(\u001b[0m\u001b[0mprompt\u001b[0m\u001b[0;34m)\u001b[0m\u001b[0;34m\u001b[0m\u001b[0;34m\u001b[0m\u001b[0m\n",
            "\u001b[0;32m/usr/local/lib/python3.7/dist-packages/pexpect/spawnbase.py\u001b[0m in \u001b[0;36mexpect\u001b[0;34m(self, pattern, timeout, searchwindowsize, async_, **kw)\u001b[0m\n\u001b[1;32m    342\u001b[0m         \u001b[0mcompiled_pattern_list\u001b[0m \u001b[0;34m=\u001b[0m \u001b[0mself\u001b[0m\u001b[0;34m.\u001b[0m\u001b[0mcompile_pattern_list\u001b[0m\u001b[0;34m(\u001b[0m\u001b[0mpattern\u001b[0m\u001b[0;34m)\u001b[0m\u001b[0;34m\u001b[0m\u001b[0;34m\u001b[0m\u001b[0m\n\u001b[1;32m    343\u001b[0m         return self.expect_list(compiled_pattern_list,\n\u001b[0;32m--> 344\u001b[0;31m                 timeout, searchwindowsize, async_)\n\u001b[0m\u001b[1;32m    345\u001b[0m \u001b[0;34m\u001b[0m\u001b[0m\n\u001b[1;32m    346\u001b[0m     def expect_list(self, pattern_list, timeout=-1, searchwindowsize=-1,\n",
            "\u001b[0;32m/usr/local/lib/python3.7/dist-packages/pexpect/spawnbase.py\u001b[0m in \u001b[0;36mexpect_list\u001b[0;34m(self, pattern_list, timeout, searchwindowsize, async_, **kw)\u001b[0m\n\u001b[1;32m    370\u001b[0m             \u001b[0;32mreturn\u001b[0m \u001b[0mexpect_async\u001b[0m\u001b[0;34m(\u001b[0m\u001b[0mexp\u001b[0m\u001b[0;34m,\u001b[0m \u001b[0mtimeout\u001b[0m\u001b[0;34m)\u001b[0m\u001b[0;34m\u001b[0m\u001b[0;34m\u001b[0m\u001b[0m\n\u001b[1;32m    371\u001b[0m         \u001b[0;32melse\u001b[0m\u001b[0;34m:\u001b[0m\u001b[0;34m\u001b[0m\u001b[0;34m\u001b[0m\u001b[0m\n\u001b[0;32m--> 372\u001b[0;31m             \u001b[0;32mreturn\u001b[0m \u001b[0mexp\u001b[0m\u001b[0;34m.\u001b[0m\u001b[0mexpect_loop\u001b[0m\u001b[0;34m(\u001b[0m\u001b[0mtimeout\u001b[0m\u001b[0;34m)\u001b[0m\u001b[0;34m\u001b[0m\u001b[0;34m\u001b[0m\u001b[0m\n\u001b[0m\u001b[1;32m    373\u001b[0m \u001b[0;34m\u001b[0m\u001b[0m\n\u001b[1;32m    374\u001b[0m     def expect_exact(self, pattern_list, timeout=-1, searchwindowsize=-1,\n",
            "\u001b[0;32m/usr/local/lib/python3.7/dist-packages/pexpect/expect.py\u001b[0m in \u001b[0;36mexpect_loop\u001b[0;34m(self, timeout)\u001b[0m\n\u001b[1;32m    169\u001b[0m                 \u001b[0mincoming\u001b[0m \u001b[0;34m=\u001b[0m \u001b[0mspawn\u001b[0m\u001b[0;34m.\u001b[0m\u001b[0mread_nonblocking\u001b[0m\u001b[0;34m(\u001b[0m\u001b[0mspawn\u001b[0m\u001b[0;34m.\u001b[0m\u001b[0mmaxread\u001b[0m\u001b[0;34m,\u001b[0m \u001b[0mtimeout\u001b[0m\u001b[0;34m)\u001b[0m\u001b[0;34m\u001b[0m\u001b[0;34m\u001b[0m\u001b[0m\n\u001b[1;32m    170\u001b[0m                 \u001b[0;32mif\u001b[0m \u001b[0mself\u001b[0m\u001b[0;34m.\u001b[0m\u001b[0mspawn\u001b[0m\u001b[0;34m.\u001b[0m\u001b[0mdelayafterread\u001b[0m \u001b[0;32mis\u001b[0m \u001b[0;32mnot\u001b[0m \u001b[0;32mNone\u001b[0m\u001b[0;34m:\u001b[0m\u001b[0;34m\u001b[0m\u001b[0;34m\u001b[0m\u001b[0m\n\u001b[0;32m--> 171\u001b[0;31m                     \u001b[0mtime\u001b[0m\u001b[0;34m.\u001b[0m\u001b[0msleep\u001b[0m\u001b[0;34m(\u001b[0m\u001b[0mself\u001b[0m\u001b[0;34m.\u001b[0m\u001b[0mspawn\u001b[0m\u001b[0;34m.\u001b[0m\u001b[0mdelayafterread\u001b[0m\u001b[0;34m)\u001b[0m\u001b[0;34m\u001b[0m\u001b[0;34m\u001b[0m\u001b[0m\n\u001b[0m\u001b[1;32m    172\u001b[0m                 \u001b[0midx\u001b[0m \u001b[0;34m=\u001b[0m \u001b[0mself\u001b[0m\u001b[0;34m.\u001b[0m\u001b[0mnew_data\u001b[0m\u001b[0;34m(\u001b[0m\u001b[0mincoming\u001b[0m\u001b[0;34m)\u001b[0m\u001b[0;34m\u001b[0m\u001b[0;34m\u001b[0m\u001b[0m\n\u001b[1;32m    173\u001b[0m                 \u001b[0;31m# Keep reading until exception or return.\u001b[0m\u001b[0;34m\u001b[0m\u001b[0;34m\u001b[0m\u001b[0;34m\u001b[0m\u001b[0m\n",
            "\u001b[0;31mKeyboardInterrupt\u001b[0m: "
          ]
        }
      ]
    },
    {
      "cell_type": "code",
      "execution_count": 19,
      "metadata": {
        "id": "dJt0_FURPCCO"
      },
      "outputs": [],
      "source": [
        "categories=[1,0] # [real, fake]\n",
        "\n",
        "#path which contains all the categories of images\n",
        "datadir='real_sample/'\n",
        "datadirs = ['/content/real_vs_fake/real-vs-fake/test/real', '/content/real_vs_fake/real-vs-fake/test/fake'] \n",
        "\n",
        "x,y = loadImages(datadirs, categories)"
      ]
    },
    {
      "cell_type": "code",
      "execution_count": 20,
      "metadata": {
        "id": "kMP3QLEMPVv8",
        "colab": {
          "base_uri": "https://localhost:8080/"
        },
        "outputId": "6d7716ee-d8ac-4db5-e200-3bbbcf540465"
      },
      "outputs": [
        {
          "output_type": "execute_result",
          "data": {
            "text/plain": [
              "(400, 128, 128, 3)"
            ]
          },
          "metadata": {},
          "execution_count": 20
        }
      ],
      "source": [
        "x.shape"
      ]
    },
    {
      "cell_type": "code",
      "execution_count": 21,
      "metadata": {
        "id": "v0FDFf2oOy0k",
        "colab": {
          "base_uri": "https://localhost:8080/"
        },
        "outputId": "489acdc1-b5b7-4f46-b448-35fafb95bf42"
      },
      "outputs": [
        {
          "output_type": "execute_result",
          "data": {
            "text/plain": [
              "(400, 128, 128, 3)"
            ]
          },
          "metadata": {},
          "execution_count": 21
        }
      ],
      "source": [
        "x = np.resize(x, (x.shape[0], 128,128,3))\n",
        "x.shape\n",
        "\n",
        "#why da fuk is it 150x150x3 ?!?!"
      ]
    },
    {
      "cell_type": "code",
      "execution_count": 22,
      "metadata": {
        "id": "WMigSHd2PbTJ",
        "colab": {
          "base_uri": "https://localhost:8080/"
        },
        "outputId": "36219399-e25a-4c8f-ea8a-5ae8b1759118"
      },
      "outputs": [
        {
          "output_type": "stream",
          "name": "stdout",
          "text": [
            "Splitted Successfully\n"
          ]
        }
      ],
      "source": [
        "x_train,x_test,y_train,y_test=train_test_split(x,y,test_size=0.20,random_state=77,stratify=y)\n",
        "print('Splitted Successfully')\n",
        "#x_train"
      ]
    },
    {
      "cell_type": "code",
      "execution_count": 23,
      "metadata": {
        "id": "ZSjgSc7P3AIg",
        "colab": {
          "base_uri": "https://localhost:8080/"
        },
        "outputId": "04b8be11-3d7a-4ebf-a7dd-5387e6ba68b5"
      },
      "outputs": [
        {
          "output_type": "execute_result",
          "data": {
            "text/plain": [
              "array([[[[0.01470588, 0.03137255, 0.05      ],\n",
              "         [0.00588235, 0.02647059, 0.04607843],\n",
              "         [0.00392157, 0.0254902 , 0.04509804],\n",
              "         ...,\n",
              "         [0.00196078, 0.03333333, 0.08235294],\n",
              "         [0.00098039, 0.03235294, 0.08137255],\n",
              "         [0.0127451 , 0.04411765, 0.09313725]],\n",
              "\n",
              "        [[0.00980392, 0.0254902 , 0.04509804],\n",
              "         [0.00784314, 0.0245098 , 0.04411765],\n",
              "         [0.00196078, 0.02254902, 0.04215686],\n",
              "         ...,\n",
              "         [0.00098039, 0.03235294, 0.0745098 ],\n",
              "         [0.        , 0.03137255, 0.07156863],\n",
              "         [0.        , 0.03235294, 0.07254902]],\n",
              "\n",
              "        [[0.00882353, 0.0245098 , 0.04411765],\n",
              "         [0.00392157, 0.01960784, 0.03921569],\n",
              "         [0.00392157, 0.02156863, 0.04215686],\n",
              "         ...,\n",
              "         [0.00588235, 0.03137255, 0.07156863],\n",
              "         [0.00294118, 0.02843137, 0.06960784],\n",
              "         [0.00392157, 0.03137255, 0.06666667]],\n",
              "\n",
              "        ...,\n",
              "\n",
              "        [[0.01176471, 0.03235294, 0.04411765],\n",
              "         [0.00980392, 0.03039216, 0.04117647],\n",
              "         [0.01176471, 0.03137255, 0.04313725],\n",
              "         ...,\n",
              "         [0.0254902 , 0.06666667, 0.10294118],\n",
              "         [0.0254902 , 0.06666667, 0.10588235],\n",
              "         [0.02745098, 0.0627451 , 0.10980392]],\n",
              "\n",
              "        [[0.00980392, 0.03039216, 0.04215686],\n",
              "         [0.00882353, 0.02941176, 0.04117647],\n",
              "         [0.01176471, 0.03137255, 0.04313725],\n",
              "         ...,\n",
              "         [0.02352941, 0.06666667, 0.09803922],\n",
              "         [0.0254902 , 0.06372549, 0.10392157],\n",
              "         [0.02941176, 0.06568627, 0.11568627]],\n",
              "\n",
              "        [[0.0127451 , 0.03235294, 0.04411765],\n",
              "         [0.0127451 , 0.03235294, 0.04313725],\n",
              "         [0.01470588, 0.03431373, 0.04509804],\n",
              "         ...,\n",
              "         [0.0254902 , 0.06862745, 0.10098039],\n",
              "         [0.02745098, 0.06764706, 0.10588235],\n",
              "         [0.03333333, 0.06862745, 0.11960784]]],\n",
              "\n",
              "\n",
              "       [[[0.23431373, 0.23039216, 0.08137255],\n",
              "         [0.23235294, 0.22843137, 0.07941176],\n",
              "         [0.25392157, 0.25      , 0.10098039],\n",
              "         ...,\n",
              "         [0.26764706, 0.25980392, 0.10294118],\n",
              "         [0.26862745, 0.25686275, 0.10686275],\n",
              "         [0.27254902, 0.26078431, 0.11176471]],\n",
              "\n",
              "        [[0.24117647, 0.2372549 , 0.08823529],\n",
              "         [0.24901961, 0.24509804, 0.09607843],\n",
              "         [0.2627451 , 0.25882353, 0.10980392],\n",
              "         ...,\n",
              "         [0.25392157, 0.24509804, 0.08921569],\n",
              "         [0.25588235, 0.24509804, 0.09509804],\n",
              "         [0.27254902, 0.26078431, 0.11176471]],\n",
              "\n",
              "        [[0.26666667, 0.25490196, 0.10588235],\n",
              "         [0.25      , 0.23823529, 0.08921569],\n",
              "         [0.2372549 , 0.2254902 , 0.07647059],\n",
              "         ...,\n",
              "         [0.25980392, 0.25686275, 0.1       ],\n",
              "         [0.25294118, 0.24901961, 0.1       ],\n",
              "         [0.27058824, 0.26568627, 0.11666667]],\n",
              "\n",
              "        ...,\n",
              "\n",
              "        [[0.58235294, 0.55882353, 0.5745098 ],\n",
              "         [0.65      , 0.63039216, 0.63823529],\n",
              "         [0.67254902, 0.65196078, 0.65882353],\n",
              "         ...,\n",
              "         [0.45882353, 0.4254902 , 0.40784314],\n",
              "         [0.42254902, 0.39313725, 0.38137255],\n",
              "         [0.34117647, 0.31372549, 0.31176471]],\n",
              "\n",
              "        [[0.61568627, 0.58823529, 0.59803922],\n",
              "         [0.6372549 , 0.61176471, 0.62156863],\n",
              "         [0.60392157, 0.57745098, 0.58529412],\n",
              "         ...,\n",
              "         [0.46470588, 0.41960784, 0.39509804],\n",
              "         [0.43235294, 0.39117647, 0.37647059],\n",
              "         [0.42352941, 0.3872549 , 0.37647059]],\n",
              "\n",
              "        [[0.66176471, 0.63235294, 0.63235294],\n",
              "         [0.67156863, 0.64117647, 0.64215686],\n",
              "         [0.69607843, 0.66764706, 0.66078431],\n",
              "         ...,\n",
              "         [0.47745098, 0.42941176, 0.4       ],\n",
              "         [0.43921569, 0.39607843, 0.37843137],\n",
              "         [0.48823529, 0.44509804, 0.42941176]]],\n",
              "\n",
              "\n",
              "       [[[0.2754902 , 0.36176471, 0.40490196],\n",
              "         [0.25588235, 0.34215686, 0.38529412],\n",
              "         [0.25588235, 0.34215686, 0.38431373],\n",
              "         ...,\n",
              "         [0.15294118, 0.21078431, 0.21960784],\n",
              "         [0.15      , 0.20882353, 0.21862745],\n",
              "         [0.14215686, 0.20882353, 0.21862745]],\n",
              "\n",
              "        [[0.25588235, 0.34215686, 0.38529412],\n",
              "         [0.25490196, 0.34117647, 0.38431373],\n",
              "         [0.25490196, 0.34117647, 0.38431373],\n",
              "         ...,\n",
              "         [0.15098039, 0.20882353, 0.21470588],\n",
              "         [0.15      , 0.20784314, 0.21666667],\n",
              "         [0.14607843, 0.20294118, 0.21078431]],\n",
              "\n",
              "        [[0.25      , 0.33627451, 0.37941176],\n",
              "         [0.25490196, 0.34117647, 0.38431373],\n",
              "         [0.25784314, 0.34411765, 0.3872549 ],\n",
              "         ...,\n",
              "         [0.15098039, 0.20490196, 0.20490196],\n",
              "         [0.15294118, 0.20588235, 0.20980392],\n",
              "         [0.15392157, 0.20196078, 0.21176471]],\n",
              "\n",
              "        ...,\n",
              "\n",
              "        [[0.52254902, 0.28333333, 0.20490196],\n",
              "         [0.51078431, 0.28137255, 0.20196078],\n",
              "         [0.47254902, 0.25      , 0.17745098],\n",
              "         ...,\n",
              "         [0.68431373, 0.66372549, 0.65392157],\n",
              "         [0.59509804, 0.59705882, 0.59411765],\n",
              "         [0.56372549, 0.57941176, 0.57843137]],\n",
              "\n",
              "        [[0.47745098, 0.23431373, 0.16470588],\n",
              "         [0.48137255, 0.25      , 0.17745098],\n",
              "         [0.45686275, 0.23431373, 0.16960784],\n",
              "         ...,\n",
              "         [0.75196078, 0.70294118, 0.68921569],\n",
              "         [0.67352941, 0.64803922, 0.63529412],\n",
              "         [0.61372549, 0.60686275, 0.59607843]],\n",
              "\n",
              "        [[0.46078431, 0.21764706, 0.15196078],\n",
              "         [0.44411765, 0.21078431, 0.14607843],\n",
              "         [0.42352941, 0.20196078, 0.14117647],\n",
              "         ...,\n",
              "         [0.77941176, 0.71176471, 0.7       ],\n",
              "         [0.7254902 , 0.68529412, 0.67058824],\n",
              "         [0.67843137, 0.66176471, 0.64215686]]],\n",
              "\n",
              "\n",
              "       ...,\n",
              "\n",
              "\n",
              "       [[[0.87352941, 0.89313725, 0.90490196],\n",
              "         [0.88627451, 0.90588235, 0.91176471],\n",
              "         [0.88235294, 0.90098039, 0.90588235],\n",
              "         ...,\n",
              "         [0.30784314, 0.36078431, 0.4127451 ],\n",
              "         [0.3127451 , 0.3627451 , 0.41078431],\n",
              "         [0.31960784, 0.36862745, 0.41568627]],\n",
              "\n",
              "        [[0.88627451, 0.90588235, 0.91666667],\n",
              "         [0.88529412, 0.90588235, 0.91568627],\n",
              "         [0.88529412, 0.90392157, 0.91372549],\n",
              "         ...,\n",
              "         [0.30588235, 0.35882353, 0.41176471],\n",
              "         [0.30392157, 0.35490196, 0.40980392],\n",
              "         [0.30392157, 0.35490196, 0.40980392]],\n",
              "\n",
              "        [[0.89019608, 0.90196078, 0.91764706],\n",
              "         [0.89117647, 0.90490196, 0.91960784],\n",
              "         [0.89019608, 0.90588235, 0.91862745],\n",
              "         ...,\n",
              "         [0.3       , 0.35686275, 0.41666667],\n",
              "         [0.30392157, 0.35784314, 0.4127451 ],\n",
              "         [0.30686275, 0.35882353, 0.41666667]],\n",
              "\n",
              "        ...,\n",
              "\n",
              "        [[0.33627451, 0.43627451, 0.50980392],\n",
              "         [0.37352941, 0.48235294, 0.55098039],\n",
              "         [0.37745098, 0.50294118, 0.56470588],\n",
              "         ...,\n",
              "         [0.40294118, 0.44019608, 0.46470588],\n",
              "         [0.30294118, 0.32745098, 0.35784314],\n",
              "         [0.34215686, 0.35490196, 0.39019608]],\n",
              "\n",
              "        [[0.32647059, 0.4372549 , 0.52745098],\n",
              "         [0.3745098 , 0.49901961, 0.57254902],\n",
              "         [0.38823529, 0.5254902 , 0.58333333],\n",
              "         ...,\n",
              "         [0.75588235, 0.7745098 , 0.76862745],\n",
              "         [0.7745098 , 0.77941176, 0.76960784],\n",
              "         [0.71372549, 0.70588235, 0.69803922]],\n",
              "\n",
              "        [[0.37352941, 0.48431373, 0.60882353],\n",
              "         [0.43823529, 0.56470588, 0.65588235],\n",
              "         [0.42254902, 0.57156863, 0.63627451],\n",
              "         ...,\n",
              "         [0.64313725, 0.65980392, 0.64313725],\n",
              "         [0.74705882, 0.76176471, 0.71372549],\n",
              "         [0.79509804, 0.80980392, 0.74313725]]],\n",
              "\n",
              "\n",
              "       [[[0.7372549 , 0.7372549 , 0.68235294],\n",
              "         [0.75784314, 0.76372549, 0.71862745],\n",
              "         [0.74215686, 0.75      , 0.70294118],\n",
              "         ...,\n",
              "         [0.03627451, 0.06372549, 0.05196078],\n",
              "         [0.03921569, 0.06666667, 0.05490196],\n",
              "         [0.04509804, 0.07254902, 0.06078431]],\n",
              "\n",
              "        [[0.74705882, 0.75490196, 0.70784314],\n",
              "         [0.75882353, 0.76960784, 0.72254902],\n",
              "         [0.75490196, 0.77058824, 0.72352941],\n",
              "         ...,\n",
              "         [0.03529412, 0.0627451 , 0.04705882],\n",
              "         [0.03529412, 0.0627451 , 0.04901961],\n",
              "         [0.03529412, 0.0627451 , 0.04901961]],\n",
              "\n",
              "        [[0.75      , 0.75882353, 0.71176471],\n",
              "         [0.76470588, 0.77941176, 0.73235294],\n",
              "         [0.7627451 , 0.77843137, 0.73137255],\n",
              "         ...,\n",
              "         [0.03529412, 0.0627451 , 0.04705882],\n",
              "         [0.03529412, 0.0627451 , 0.04705882],\n",
              "         [0.03529412, 0.0627451 , 0.04705882]],\n",
              "\n",
              "        ...,\n",
              "\n",
              "        [[0.0372549 , 0.06470588, 0.05294118],\n",
              "         [0.03333333, 0.06078431, 0.04705882],\n",
              "         [0.03921569, 0.0627451 , 0.04509804],\n",
              "         ...,\n",
              "         [0.52843137, 0.44215686, 0.28235294],\n",
              "         [0.54901961, 0.45392157, 0.28823529],\n",
              "         [0.53431373, 0.42941176, 0.25980392]],\n",
              "\n",
              "        [[0.03529412, 0.0627451 , 0.05      ],\n",
              "         [0.03529412, 0.06176471, 0.04901961],\n",
              "         [0.03921569, 0.0627451 , 0.04509804],\n",
              "         ...,\n",
              "         [0.52843137, 0.44705882, 0.2872549 ],\n",
              "         [0.54019608, 0.44411765, 0.28431373],\n",
              "         [0.55196078, 0.45392157, 0.29019608]],\n",
              "\n",
              "        [[0.04705882, 0.0745098 , 0.0627451 ],\n",
              "         [0.04117647, 0.06862745, 0.05490196],\n",
              "         [0.03921569, 0.06372549, 0.04509804],\n",
              "         ...,\n",
              "         [0.54313725, 0.46078431, 0.31078431],\n",
              "         [0.5627451 , 0.46568627, 0.30882353],\n",
              "         [0.57058824, 0.46862745, 0.31176471]]],\n",
              "\n",
              "\n",
              "       [[[0.07156863, 0.20588235, 0.11764706],\n",
              "         [0.05098039, 0.16470588, 0.08039216],\n",
              "         [0.09117647, 0.18529412, 0.11078431],\n",
              "         ...,\n",
              "         [0.11960784, 0.12745098, 0.11764706],\n",
              "         [0.08431373, 0.17156863, 0.1127451 ],\n",
              "         [0.07647059, 0.25588235, 0.16666667]],\n",
              "\n",
              "        [[0.04313725, 0.15588235, 0.08823529],\n",
              "         [0.04019608, 0.12843137, 0.06666667],\n",
              "         [0.06372549, 0.12843137, 0.08039216],\n",
              "         ...,\n",
              "         [0.16470588, 0.24411765, 0.19411765],\n",
              "         [0.15784314, 0.30490196, 0.21666667],\n",
              "         [0.12843137, 0.28431373, 0.19607843]],\n",
              "\n",
              "        [[0.03823529, 0.10980392, 0.06078431],\n",
              "         [0.01176471, 0.05588235, 0.0245098 ],\n",
              "         [0.02254902, 0.05098039, 0.03235294],\n",
              "         ...,\n",
              "         [0.17843137, 0.32941176, 0.21764706],\n",
              "         [0.14803922, 0.31078431, 0.20196078],\n",
              "         [0.10294118, 0.21176471, 0.13921569]],\n",
              "\n",
              "        ...,\n",
              "\n",
              "        [[0.0627451 , 0.09313725, 0.18627451],\n",
              "         [0.10784314, 0.14117647, 0.24509804],\n",
              "         [0.07352941, 0.11666667, 0.22647059],\n",
              "         ...,\n",
              "         [0.63627451, 0.51372549, 0.45490196],\n",
              "         [0.6245098 , 0.49411765, 0.43333333],\n",
              "         [0.61372549, 0.47352941, 0.41176471]],\n",
              "\n",
              "        [[0.06078431, 0.08529412, 0.17647059],\n",
              "         [0.09215686, 0.12156863, 0.22058824],\n",
              "         [0.06960784, 0.10882353, 0.21960784],\n",
              "         ...,\n",
              "         [0.6254902 , 0.50784314, 0.45      ],\n",
              "         [0.62941176, 0.50196078, 0.43823529],\n",
              "         [0.62156863, 0.48235294, 0.41960784]],\n",
              "\n",
              "        [[0.06666667, 0.08627451, 0.17843137],\n",
              "         [0.07058824, 0.09705882, 0.19607843],\n",
              "         [0.06176471, 0.09313725, 0.20490196],\n",
              "         ...,\n",
              "         [0.6372549 , 0.52843137, 0.46960784],\n",
              "         [0.6127451 , 0.48823529, 0.4245098 ],\n",
              "         [0.61470588, 0.47843137, 0.40784314]]]])"
            ]
          },
          "metadata": {},
          "execution_count": 23
        }
      ],
      "source": [
        "x_train"
      ]
    },
    {
      "cell_type": "code",
      "execution_count": 24,
      "metadata": {
        "id": "ON-0sG5-PcAP",
        "colab": {
          "base_uri": "https://localhost:8080/"
        },
        "outputId": "0149712a-a496-40a3-88ac-2d34b9e6612f"
      },
      "outputs": [
        {
          "output_type": "execute_result",
          "data": {
            "text/plain": [
              "400"
            ]
          },
          "metadata": {},
          "execution_count": 24
        }
      ],
      "source": [
        "# device = cuda.get_current_device()\n",
        "# device\n",
        "torch.cuda.empty_cache()\n",
        "gc.collect()"
      ]
    },
    {
      "cell_type": "code",
      "execution_count": 25,
      "metadata": {
        "id": "_WjJPgb9PrlU",
        "colab": {
          "base_uri": "https://localhost:8080/"
        },
        "outputId": "b16d029a-3f7f-48d9-fb3c-c22837bf086d"
      },
      "outputs": [
        {
          "output_type": "stream",
          "name": "stdout",
          "text": [
            "Model: \"sequential\"\n",
            "_________________________________________________________________\n",
            " Layer (type)                Output Shape              Param #   \n",
            "=================================================================\n",
            " batch_normalization (BatchN  (None, 128, 128, 3)      12        \n",
            " ormalization)                                                   \n",
            "                                                                 \n",
            " conv2d (Conv2D)             (None, 128, 128, 6)       168       \n",
            "                                                                 \n",
            " max_pooling2d (MaxPooling2D  (None, 64, 64, 6)        0         \n",
            " )                                                               \n",
            "                                                                 \n",
            " batch_normalization_1 (Batc  (None, 64, 64, 6)        24        \n",
            " hNormalization)                                                 \n",
            "                                                                 \n",
            " conv2d_1 (Conv2D)           (None, 64, 64, 32)        1760      \n",
            "                                                                 \n",
            " max_pooling2d_1 (MaxPooling  (None, 32, 32, 32)       0         \n",
            " 2D)                                                             \n",
            "                                                                 \n",
            " batch_normalization_2 (Batc  (None, 32, 32, 32)       128       \n",
            " hNormalization)                                                 \n",
            "                                                                 \n",
            " dropout (Dropout)           (None, 32, 32, 32)        0         \n",
            "                                                                 \n",
            " conv2d_2 (Conv2D)           (None, 32, 32, 64)        18496     \n",
            "                                                                 \n",
            " max_pooling2d_2 (MaxPooling  (None, 16, 16, 64)       0         \n",
            " 2D)                                                             \n",
            "                                                                 \n",
            " batch_normalization_3 (Batc  (None, 16, 16, 64)       256       \n",
            " hNormalization)                                                 \n",
            "                                                                 \n",
            " dropout_1 (Dropout)         (None, 16, 16, 64)        0         \n",
            "                                                                 \n",
            " global_average_pooling2d (G  (None, 64)               0         \n",
            " lobalAveragePooling2D)                                          \n",
            "                                                                 \n",
            " flatten (Flatten)           (None, 64)                0         \n",
            "                                                                 \n",
            " dense (Dense)               (None, 256)               16640     \n",
            "                                                                 \n",
            " dense_1 (Dense)             (None, 128)               32896     \n",
            "                                                                 \n",
            " dropout_2 (Dropout)         (None, 128)               0         \n",
            "                                                                 \n",
            " dense_2 (Dense)             (None, 1)                 129       \n",
            "                                                                 \n",
            "=================================================================\n",
            "Total params: 70,509\n",
            "Trainable params: 70,299\n",
            "Non-trainable params: 210\n",
            "_________________________________________________________________\n"
          ]
        }
      ],
      "source": [
        "from keras.layers import Conv2D, MaxPooling2D, GlobalAveragePooling2D\n",
        "from keras.layers import Dropout, Flatten, Dense\n",
        "from keras.models import Sequential\n",
        "from tensorflow.keras.models import Sequential\n",
        "from tensorflow.keras.layers import (\n",
        "    BatchNormalization, SeparableConv2D, MaxPooling2D, Activation, Flatten, Dropout, Dense\n",
        ")\n",
        "from tensorflow.keras import backend as K\n",
        "\n",
        "\n",
        "# Pamameters Initialization\n",
        "inputShape = (x_train.shape[1], x_train.shape[2],x_train.shape[3])\n",
        "activation = 'leaky_relu' # change to relu\n",
        "padding = 'same'\n",
        "droprate = 0.1\n",
        "epsilon=0.001\n",
        "model = Sequential()\n",
        "model.add(keras.Input(shape=inputShape))\n",
        "model.add(BatchNormalization(input_shape=inputShape))\n",
        "model.add(Conv2D(filters=6, kernel_size=3, activation=activation, padding=padding))\n",
        "model.add(MaxPooling2D(pool_size=2))\n",
        "model.add(BatchNormalization(epsilon=epsilon))\n",
        "\n",
        "\n",
        "model.add(Conv2D(filters=32, kernel_size=3, activation=activation, padding=padding))\n",
        "model.add(MaxPooling2D(pool_size=2))\n",
        "model.add(BatchNormalization(epsilon=epsilon))\n",
        "model.add(Dropout(droprate))\n",
        "\n",
        "model.add(Conv2D(filters=64, kernel_size=3, activation=activation, padding=padding))\n",
        "model.add(MaxPooling2D(pool_size=2))\n",
        "model.add(BatchNormalization(epsilon=epsilon))\n",
        "model.add(Dropout(droprate))\n",
        "\n",
        "model.add(GlobalAveragePooling2D())\n",
        "model.add(Flatten())\n",
        "model.add(Dense(256, kernel_initializer='glorot_normal', activation=activation))\n",
        "          \n",
        "model.add(Dense(128, kernel_initializer='glorot_normal', activation=activation))\n",
        "model.add(Dropout(0.5))\n",
        "\n",
        "model.add(Dense(1, activation='sigmoid'))\n",
        "\n",
        "model.summary() # Summary of the architecture"
      ]
    },
    {
      "cell_type": "code",
      "execution_count": 26,
      "metadata": {
        "id": "5cWWGVbWQNWq"
      },
      "outputs": [],
      "source": [
        "#from tensorflow.keras.optimizers import RMSprop\n",
        "#opt = rmsprop(lr=0.0001, decay=1e-6)\n",
        "#opt = Adam(lr=0.001, decay=1e-6)\n",
        "#model.compile(loss='Loss',optimizer=keras.optimizers.SGD(0.001), metrics=['accuracy'])\n",
        "#optimizer = tf.keras.optimizers.SGD(learning_rate=0.001, decay=1e-6)\n",
        "model.compile(optimizer = 'adam', loss = 'BinaryCrossentropy',\n",
        "             metrics=['accuracy'])"
      ]
    },
    {
      "cell_type": "code",
      "execution_count": 27,
      "metadata": {
        "id": "R0XZPPcg1aPJ",
        "colab": {
          "base_uri": "https://localhost:8080/"
        },
        "outputId": "34fecd18-4101-4cbb-adbf-c7614e26c7d3"
      },
      "outputs": [
        {
          "output_type": "stream",
          "name": "stdout",
          "text": [
            "Epoch 1/100\n",
            "8/8 [==============================] - 11s 53ms/step - loss: 0.7044 - accuracy: 0.4961 - val_loss: 0.7025 - val_accuracy: 0.4531\n",
            "Epoch 2/100\n",
            "8/8 [==============================] - 0s 17ms/step - loss: 0.6870 - accuracy: 0.5625 - val_loss: 0.6967 - val_accuracy: 0.4531\n",
            "Epoch 3/100\n",
            "8/8 [==============================] - 0s 17ms/step - loss: 0.6728 - accuracy: 0.5547 - val_loss: 0.6960 - val_accuracy: 0.4375\n",
            "Epoch 4/100\n",
            "8/8 [==============================] - 0s 16ms/step - loss: 0.6759 - accuracy: 0.5781 - val_loss: 0.6951 - val_accuracy: 0.4531\n",
            "Epoch 5/100\n",
            "8/8 [==============================] - 0s 18ms/step - loss: 0.6531 - accuracy: 0.5898 - val_loss: 0.6960 - val_accuracy: 0.4375\n",
            "Epoch 6/100\n",
            "8/8 [==============================] - 0s 16ms/step - loss: 0.6463 - accuracy: 0.6250 - val_loss: 0.6990 - val_accuracy: 0.4219\n",
            "Epoch 7/100\n",
            "8/8 [==============================] - 0s 16ms/step - loss: 0.6401 - accuracy: 0.6133 - val_loss: 0.7104 - val_accuracy: 0.4531\n",
            "Epoch 8/100\n",
            "8/8 [==============================] - 0s 16ms/step - loss: 0.6597 - accuracy: 0.6055 - val_loss: 0.7203 - val_accuracy: 0.4531\n",
            "Epoch 9/100\n",
            "8/8 [==============================] - 0s 16ms/step - loss: 0.6304 - accuracy: 0.6680 - val_loss: 0.6993 - val_accuracy: 0.4375\n",
            "Epoch 10/100\n",
            "8/8 [==============================] - 0s 16ms/step - loss: 0.6055 - accuracy: 0.6602 - val_loss: 0.7092 - val_accuracy: 0.4531\n",
            "Epoch 11/100\n",
            "8/8 [==============================] - 0s 17ms/step - loss: 0.6284 - accuracy: 0.6250 - val_loss: 0.7828 - val_accuracy: 0.4531\n",
            "Epoch 12/100\n",
            "8/8 [==============================] - 0s 17ms/step - loss: 0.6466 - accuracy: 0.6328 - val_loss: 0.7137 - val_accuracy: 0.4531\n",
            "Epoch 13/100\n",
            "8/8 [==============================] - 0s 17ms/step - loss: 0.6002 - accuracy: 0.6523 - val_loss: 0.7387 - val_accuracy: 0.4531\n",
            "Epoch 14/100\n",
            "8/8 [==============================] - 0s 17ms/step - loss: 0.6183 - accuracy: 0.6914 - val_loss: 0.7962 - val_accuracy: 0.4531\n",
            "Epoch 15/100\n",
            "8/8 [==============================] - 0s 16ms/step - loss: 0.5761 - accuracy: 0.7227 - val_loss: 0.8056 - val_accuracy: 0.4531\n",
            "Epoch 16/100\n",
            "8/8 [==============================] - 0s 18ms/step - loss: 0.5732 - accuracy: 0.6797 - val_loss: 0.8488 - val_accuracy: 0.4531\n",
            "Epoch 17/100\n",
            "8/8 [==============================] - 0s 17ms/step - loss: 0.5557 - accuracy: 0.7227 - val_loss: 0.8318 - val_accuracy: 0.4531\n",
            "Epoch 18/100\n",
            "8/8 [==============================] - 0s 16ms/step - loss: 0.5476 - accuracy: 0.7461 - val_loss: 0.9119 - val_accuracy: 0.4531\n",
            "Epoch 19/100\n",
            "8/8 [==============================] - 0s 18ms/step - loss: 0.5477 - accuracy: 0.7461 - val_loss: 0.9928 - val_accuracy: 0.4531\n",
            "Epoch 20/100\n",
            "8/8 [==============================] - 0s 16ms/step - loss: 0.5462 - accuracy: 0.7188 - val_loss: 1.0969 - val_accuracy: 0.4531\n",
            "Epoch 21/100\n",
            "8/8 [==============================] - 0s 17ms/step - loss: 0.5630 - accuracy: 0.6953 - val_loss: 1.0679 - val_accuracy: 0.4531\n",
            "Epoch 22/100\n",
            "8/8 [==============================] - 0s 17ms/step - loss: 0.5417 - accuracy: 0.7266 - val_loss: 1.1456 - val_accuracy: 0.4531\n",
            "Epoch 23/100\n",
            "8/8 [==============================] - 0s 16ms/step - loss: 0.5187 - accuracy: 0.7695 - val_loss: 0.9885 - val_accuracy: 0.4531\n",
            "Epoch 24/100\n",
            "8/8 [==============================] - 0s 16ms/step - loss: 0.5298 - accuracy: 0.7305 - val_loss: 1.0448 - val_accuracy: 0.4531\n",
            "Epoch 25/100\n",
            "8/8 [==============================] - 0s 16ms/step - loss: 0.5174 - accuracy: 0.7344 - val_loss: 0.9633 - val_accuracy: 0.4531\n",
            "Epoch 26/100\n",
            "8/8 [==============================] - 0s 17ms/step - loss: 0.4836 - accuracy: 0.7695 - val_loss: 1.3271 - val_accuracy: 0.4531\n",
            "Epoch 27/100\n",
            "8/8 [==============================] - 0s 16ms/step - loss: 0.4633 - accuracy: 0.7617 - val_loss: 1.0212 - val_accuracy: 0.4531\n",
            "Epoch 28/100\n",
            "8/8 [==============================] - 0s 16ms/step - loss: 0.4284 - accuracy: 0.7891 - val_loss: 1.3301 - val_accuracy: 0.4531\n",
            "Epoch 29/100\n",
            "8/8 [==============================] - 0s 18ms/step - loss: 0.4275 - accuracy: 0.7930 - val_loss: 1.3748 - val_accuracy: 0.4531\n",
            "Epoch 30/100\n",
            "8/8 [==============================] - 0s 16ms/step - loss: 0.4210 - accuracy: 0.8125 - val_loss: 1.5200 - val_accuracy: 0.4531\n",
            "Epoch 31/100\n",
            "8/8 [==============================] - 0s 17ms/step - loss: 0.4141 - accuracy: 0.8047 - val_loss: 1.2891 - val_accuracy: 0.4375\n",
            "Epoch 32/100\n",
            "8/8 [==============================] - 0s 16ms/step - loss: 0.4427 - accuracy: 0.7852 - val_loss: 1.3559 - val_accuracy: 0.4375\n",
            "Epoch 33/100\n",
            "8/8 [==============================] - 0s 19ms/step - loss: 0.3696 - accuracy: 0.8320 - val_loss: 1.7657 - val_accuracy: 0.4531\n",
            "Epoch 34/100\n",
            "8/8 [==============================] - 0s 20ms/step - loss: 0.3713 - accuracy: 0.8281 - val_loss: 1.0019 - val_accuracy: 0.4844\n",
            "Epoch 35/100\n",
            "8/8 [==============================] - 0s 20ms/step - loss: 0.4591 - accuracy: 0.7852 - val_loss: 1.1797 - val_accuracy: 0.4531\n",
            "Epoch 36/100\n",
            "8/8 [==============================] - 0s 20ms/step - loss: 0.4149 - accuracy: 0.8320 - val_loss: 1.5487 - val_accuracy: 0.4531\n",
            "Epoch 37/100\n",
            "8/8 [==============================] - 0s 22ms/step - loss: 0.4289 - accuracy: 0.8242 - val_loss: 1.5048 - val_accuracy: 0.4531\n",
            "Epoch 38/100\n",
            "8/8 [==============================] - 0s 22ms/step - loss: 0.3571 - accuracy: 0.8320 - val_loss: 1.3489 - val_accuracy: 0.4531\n",
            "Epoch 39/100\n",
            "8/8 [==============================] - 0s 23ms/step - loss: 0.3121 - accuracy: 0.8867 - val_loss: 1.0492 - val_accuracy: 0.5312\n",
            "Epoch 40/100\n",
            "8/8 [==============================] - 0s 20ms/step - loss: 0.3884 - accuracy: 0.8164 - val_loss: 1.5626 - val_accuracy: 0.4531\n",
            "Epoch 41/100\n",
            "8/8 [==============================] - 0s 19ms/step - loss: 0.3598 - accuracy: 0.8398 - val_loss: 1.7994 - val_accuracy: 0.4531\n",
            "Epoch 42/100\n",
            "8/8 [==============================] - 0s 19ms/step - loss: 0.3266 - accuracy: 0.8711 - val_loss: 1.4037 - val_accuracy: 0.4844\n",
            "Epoch 43/100\n",
            "8/8 [==============================] - 0s 19ms/step - loss: 0.3485 - accuracy: 0.8320 - val_loss: 1.7962 - val_accuracy: 0.4531\n",
            "Epoch 44/100\n",
            "8/8 [==============================] - 0s 21ms/step - loss: 0.2954 - accuracy: 0.8789 - val_loss: 1.4554 - val_accuracy: 0.5469\n",
            "Epoch 45/100\n",
            "8/8 [==============================] - 0s 19ms/step - loss: 0.2894 - accuracy: 0.8789 - val_loss: 1.4842 - val_accuracy: 0.4844\n",
            "Epoch 46/100\n",
            "8/8 [==============================] - 0s 19ms/step - loss: 0.2702 - accuracy: 0.8867 - val_loss: 1.4531 - val_accuracy: 0.5625\n",
            "Epoch 47/100\n",
            "8/8 [==============================] - 0s 17ms/step - loss: 0.2599 - accuracy: 0.8828 - val_loss: 1.5702 - val_accuracy: 0.5000\n",
            "Epoch 48/100\n",
            "8/8 [==============================] - 0s 17ms/step - loss: 0.2930 - accuracy: 0.8945 - val_loss: 2.8146 - val_accuracy: 0.4531\n",
            "Epoch 49/100\n",
            "8/8 [==============================] - 0s 18ms/step - loss: 0.3038 - accuracy: 0.8516 - val_loss: 1.9582 - val_accuracy: 0.5156\n",
            "Epoch 50/100\n",
            "8/8 [==============================] - 0s 16ms/step - loss: 0.2903 - accuracy: 0.8789 - val_loss: 2.4840 - val_accuracy: 0.4375\n",
            "Epoch 51/100\n",
            "8/8 [==============================] - 0s 16ms/step - loss: 0.2559 - accuracy: 0.8828 - val_loss: 2.0132 - val_accuracy: 0.5156\n",
            "Epoch 52/100\n",
            "8/8 [==============================] - 0s 16ms/step - loss: 0.3176 - accuracy: 0.8359 - val_loss: 1.5965 - val_accuracy: 0.5000\n",
            "Epoch 53/100\n",
            "8/8 [==============================] - 0s 16ms/step - loss: 0.3528 - accuracy: 0.8398 - val_loss: 3.4353 - val_accuracy: 0.4531\n",
            "Epoch 54/100\n",
            "8/8 [==============================] - 0s 15ms/step - loss: 0.3753 - accuracy: 0.8594 - val_loss: 1.5473 - val_accuracy: 0.4844\n",
            "Epoch 55/100\n",
            "8/8 [==============================] - 0s 17ms/step - loss: 0.2973 - accuracy: 0.8867 - val_loss: 2.0468 - val_accuracy: 0.4375\n",
            "Epoch 56/100\n",
            "8/8 [==============================] - 0s 16ms/step - loss: 0.2353 - accuracy: 0.9102 - val_loss: 1.5695 - val_accuracy: 0.5469\n",
            "Epoch 57/100\n",
            "8/8 [==============================] - 0s 17ms/step - loss: 0.2395 - accuracy: 0.9180 - val_loss: 1.6348 - val_accuracy: 0.5469\n",
            "Epoch 58/100\n",
            "8/8 [==============================] - 0s 17ms/step - loss: 0.2192 - accuracy: 0.9258 - val_loss: 2.0042 - val_accuracy: 0.5156\n",
            "Epoch 59/100\n",
            "8/8 [==============================] - 0s 16ms/step - loss: 0.2208 - accuracy: 0.8984 - val_loss: 1.9390 - val_accuracy: 0.4688\n",
            "Epoch 60/100\n",
            "8/8 [==============================] - 0s 16ms/step - loss: 0.2505 - accuracy: 0.8906 - val_loss: 1.7708 - val_accuracy: 0.5938\n",
            "Epoch 61/100\n",
            "8/8 [==============================] - 0s 17ms/step - loss: 0.2602 - accuracy: 0.9023 - val_loss: 1.8946 - val_accuracy: 0.5156\n",
            "Epoch 62/100\n",
            "8/8 [==============================] - 0s 16ms/step - loss: 0.2436 - accuracy: 0.9023 - val_loss: 1.8591 - val_accuracy: 0.5000\n",
            "Epoch 63/100\n",
            "8/8 [==============================] - 0s 16ms/step - loss: 0.1831 - accuracy: 0.9336 - val_loss: 1.8990 - val_accuracy: 0.4844\n",
            "Epoch 64/100\n",
            "8/8 [==============================] - 0s 17ms/step - loss: 0.1534 - accuracy: 0.9570 - val_loss: 1.9269 - val_accuracy: 0.5469\n",
            "Epoch 65/100\n",
            "8/8 [==============================] - 0s 16ms/step - loss: 0.1508 - accuracy: 0.9531 - val_loss: 1.8477 - val_accuracy: 0.5156\n",
            "Epoch 66/100\n",
            "8/8 [==============================] - 0s 18ms/step - loss: 0.1363 - accuracy: 0.9648 - val_loss: 2.4722 - val_accuracy: 0.4375\n",
            "Epoch 67/100\n",
            "8/8 [==============================] - 0s 17ms/step - loss: 0.1432 - accuracy: 0.9414 - val_loss: 2.1394 - val_accuracy: 0.5469\n",
            "Epoch 68/100\n",
            "8/8 [==============================] - 0s 16ms/step - loss: 0.1510 - accuracy: 0.9492 - val_loss: 2.0168 - val_accuracy: 0.4844\n",
            "Epoch 69/100\n",
            "8/8 [==============================] - 0s 17ms/step - loss: 0.1475 - accuracy: 0.9492 - val_loss: 2.9180 - val_accuracy: 0.5000\n",
            "Epoch 70/100\n",
            "8/8 [==============================] - 0s 17ms/step - loss: 0.2264 - accuracy: 0.9180 - val_loss: 2.0966 - val_accuracy: 0.4688\n",
            "Epoch 71/100\n",
            "8/8 [==============================] - 0s 17ms/step - loss: 0.1745 - accuracy: 0.9219 - val_loss: 2.2826 - val_accuracy: 0.4688\n",
            "Epoch 72/100\n",
            "8/8 [==============================] - 0s 18ms/step - loss: 0.1454 - accuracy: 0.9570 - val_loss: 2.6422 - val_accuracy: 0.5156\n",
            "Epoch 73/100\n",
            "8/8 [==============================] - 0s 16ms/step - loss: 0.1337 - accuracy: 0.9531 - val_loss: 3.2712 - val_accuracy: 0.4688\n",
            "Epoch 74/100\n",
            "8/8 [==============================] - 0s 16ms/step - loss: 0.1248 - accuracy: 0.9609 - val_loss: 2.3220 - val_accuracy: 0.5625\n",
            "Epoch 75/100\n",
            "8/8 [==============================] - 0s 16ms/step - loss: 0.1746 - accuracy: 0.9336 - val_loss: 2.1493 - val_accuracy: 0.5000\n",
            "Epoch 76/100\n",
            "8/8 [==============================] - 0s 16ms/step - loss: 0.1220 - accuracy: 0.9648 - val_loss: 1.9653 - val_accuracy: 0.5000\n",
            "Epoch 77/100\n",
            "8/8 [==============================] - 0s 16ms/step - loss: 0.1428 - accuracy: 0.9531 - val_loss: 2.4667 - val_accuracy: 0.4844\n",
            "Epoch 78/100\n",
            "8/8 [==============================] - 0s 16ms/step - loss: 0.1404 - accuracy: 0.9531 - val_loss: 2.3524 - val_accuracy: 0.4844\n",
            "Epoch 79/100\n",
            "8/8 [==============================] - 0s 17ms/step - loss: 0.1784 - accuracy: 0.9258 - val_loss: 3.5009 - val_accuracy: 0.4375\n",
            "Epoch 80/100\n",
            "8/8 [==============================] - 0s 17ms/step - loss: 0.2328 - accuracy: 0.8867 - val_loss: 1.7466 - val_accuracy: 0.5625\n",
            "Epoch 81/100\n",
            "8/8 [==============================] - 0s 17ms/step - loss: 0.1560 - accuracy: 0.9258 - val_loss: 2.5254 - val_accuracy: 0.5625\n",
            "Epoch 82/100\n",
            "8/8 [==============================] - 0s 16ms/step - loss: 0.1332 - accuracy: 0.9688 - val_loss: 3.0990 - val_accuracy: 0.5000\n",
            "Epoch 83/100\n",
            "8/8 [==============================] - 0s 18ms/step - loss: 0.1285 - accuracy: 0.9531 - val_loss: 2.5671 - val_accuracy: 0.5000\n",
            "Epoch 84/100\n",
            "8/8 [==============================] - 0s 17ms/step - loss: 0.1262 - accuracy: 0.9570 - val_loss: 2.5928 - val_accuracy: 0.5156\n",
            "Epoch 85/100\n",
            "8/8 [==============================] - 0s 18ms/step - loss: 0.1618 - accuracy: 0.9375 - val_loss: 3.1334 - val_accuracy: 0.5000\n",
            "Epoch 86/100\n",
            "8/8 [==============================] - 0s 17ms/step - loss: 0.1201 - accuracy: 0.9492 - val_loss: 2.7312 - val_accuracy: 0.5156\n",
            "Epoch 87/100\n",
            "8/8 [==============================] - 0s 17ms/step - loss: 0.1187 - accuracy: 0.9453 - val_loss: 2.2965 - val_accuracy: 0.5625\n",
            "Epoch 88/100\n",
            "8/8 [==============================] - 0s 16ms/step - loss: 0.1164 - accuracy: 0.9609 - val_loss: 2.6997 - val_accuracy: 0.4844\n",
            "Epoch 89/100\n",
            "8/8 [==============================] - 0s 16ms/step - loss: 0.1553 - accuracy: 0.9375 - val_loss: 2.1756 - val_accuracy: 0.5781\n",
            "Epoch 90/100\n",
            "8/8 [==============================] - 0s 16ms/step - loss: 0.1388 - accuracy: 0.9531 - val_loss: 2.7122 - val_accuracy: 0.5156\n",
            "Epoch 91/100\n",
            "8/8 [==============================] - 0s 18ms/step - loss: 0.1051 - accuracy: 0.9648 - val_loss: 3.0132 - val_accuracy: 0.4375\n",
            "Epoch 92/100\n",
            "8/8 [==============================] - 0s 17ms/step - loss: 0.1038 - accuracy: 0.9648 - val_loss: 2.1926 - val_accuracy: 0.5781\n",
            "Epoch 93/100\n",
            "8/8 [==============================] - 0s 16ms/step - loss: 0.1146 - accuracy: 0.9531 - val_loss: 2.4152 - val_accuracy: 0.5156\n",
            "Epoch 94/100\n",
            "8/8 [==============================] - 0s 16ms/step - loss: 0.1038 - accuracy: 0.9570 - val_loss: 2.5887 - val_accuracy: 0.4844\n",
            "Epoch 95/100\n",
            "8/8 [==============================] - 0s 16ms/step - loss: 0.0978 - accuracy: 0.9648 - val_loss: 2.5303 - val_accuracy: 0.5312\n",
            "Epoch 96/100\n",
            "8/8 [==============================] - 0s 18ms/step - loss: 0.0870 - accuracy: 0.9727 - val_loss: 3.5200 - val_accuracy: 0.4531\n",
            "Epoch 97/100\n",
            "8/8 [==============================] - 0s 16ms/step - loss: 0.0509 - accuracy: 0.9883 - val_loss: 2.4840 - val_accuracy: 0.5156\n",
            "Epoch 98/100\n",
            "8/8 [==============================] - 0s 17ms/step - loss: 0.0693 - accuracy: 0.9766 - val_loss: 2.9932 - val_accuracy: 0.4688\n",
            "Epoch 99/100\n",
            "8/8 [==============================] - 0s 16ms/step - loss: 0.1000 - accuracy: 0.9648 - val_loss: 3.0372 - val_accuracy: 0.4844\n",
            "Epoch 100/100\n",
            "8/8 [==============================] - 0s 16ms/step - loss: 0.1011 - accuracy: 0.9648 - val_loss: 2.5342 - val_accuracy: 0.5156\n"
          ]
        }
      ],
      "source": [
        "history = model.fit(x_train, \n",
        "                    y_train, \n",
        "                    batch_size = 32, \n",
        "                    epochs = 100, \n",
        "                    verbose = 1, \n",
        "                    validation_split = 0.2, \n",
        "                    shuffle = True)"
      ]
    },
    {
      "cell_type": "code",
      "execution_count": 28,
      "metadata": {
        "id": "mz2r72SUPfTI",
        "colab": {
          "base_uri": "https://localhost:8080/",
          "height": 295
        },
        "outputId": "b653b1f9-ec41-4557-c9a8-ad446a2143ce"
      },
      "outputs": [
        {
          "output_type": "display_data",
          "data": {
            "text/plain": [
              "<Figure size 432x288 with 1 Axes>"
            ],
            "image/png": "[encoded data removed]"
          },
          "metadata": {
            "needs_background": "light"
          }
        }
      ],
      "source": [
        "plt.plot(history.history[\"accuracy\"])\n",
        "plt.plot(history.history[\"val_accuracy\"])\n",
        "plt.title(\"Model accuracy\")\n",
        "plt.ylabel(\"Accuracy\")\n",
        "plt.xlabel(\"Epoch\")\n",
        "plt.legend([\"Train\", \"Test\"])\n",
        "plt.show()"
      ]
    },
    {
      "cell_type": "code",
      "execution_count": 29,
      "metadata": {
        "id": "rzfKm3VW8RQc"
      },
      "outputs": [],
      "source": [
        "y_pred = model.predict(x_test)"
      ]
    },
    {
      "cell_type": "code",
      "execution_count": 30,
      "metadata": {
        "id": "-Ksxq9IfdxqI",
        "colab": {
          "base_uri": "https://localhost:8080/"
        },
        "outputId": "4d371cde-801d-4c33-ec1b-81ffd964a8e6"
      },
      "outputs": [
        {
          "output_type": "execute_result",
          "data": {
            "text/plain": [
              "80"
            ]
          },
          "metadata": {},
          "execution_count": 30
        }
      ],
      "source": [
        "y_pred.shape[0]"
      ]
    },
    {
      "cell_type": "code",
      "execution_count": 31,
      "metadata": {
        "id": "MprXutMydyMH",
        "colab": {
          "base_uri": "https://localhost:8080/"
        },
        "outputId": "eea45a16-6593-4e28-82cf-bdc6585e915e"
      },
      "outputs": [
        {
          "output_type": "execute_result",
          "data": {
            "text/plain": [
              "0.05359051"
            ]
          },
          "metadata": {},
          "execution_count": 31
        }
      ],
      "source": [
        "y_pred[2][0]"
      ]
    },
    {
      "cell_type": "code",
      "execution_count": 32,
      "metadata": {
        "id": "S2YdRKlgd0kC"
      },
      "outputs": [],
      "source": [
        "def get_accuracy(y_pred, y_test):\n",
        "  total_correct = 0.0\n",
        "  for i in range(y_pred.shape[0]):\n",
        "    if (np.round(y_pred[i]) == y_test[i]):\n",
        "      total_correct += 1.0\n",
        "  return total_correct / y_pred.shape[0]"
      ]
    },
    {
      "cell_type": "code",
      "execution_count": 33,
      "metadata": {
        "id": "AEsoq68vd2Vp",
        "colab": {
          "base_uri": "https://localhost:8080/"
        },
        "outputId": "936c20b7-1fde-4b3c-e4a1-b07465796b94"
      },
      "outputs": [
        {
          "output_type": "execute_result",
          "data": {
            "text/plain": [
              "0.7125"
            ]
          },
          "metadata": {},
          "execution_count": 33
        }
      ],
      "source": [
        "get_accuracy(y_pred, y_test)"
      ]
    },
    {
      "cell_type": "code",
      "source": [
        ""
      ],
      "metadata": {
        "id": "FCZFiLA_ka4t"
      },
      "execution_count": 33,
      "outputs": []
    }
  ],
  "metadata": {
    "accelerator": "GPU",
    "colab": {
      "collapsed_sections": [],
      "name": "DeepFakeDetection[Git].ipynb",
      "provenance": [],
      "include_colab_link": true
    },
    "gpuClass": "standard",
    "kernelspec": {
      "display_name": "Python 3",
      "name": "python3"
    },
    "language_info": {
      "name": "python"
    }
  },
  "nbformat": 4,
  "nbformat_minor": 0
}